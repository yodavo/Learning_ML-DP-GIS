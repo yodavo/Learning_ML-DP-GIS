{
  "nbformat": 4,
  "nbformat_minor": 0,
  "metadata": {
    "colab": {
      "name": "2021-12_Statsmodel-Training.ipynb",
      "provenance": [],
      "authorship_tag": "ABX9TyM7a5GsvqR8NClTwmvhMuBP",
      "include_colab_link": true
    },
    "kernelspec": {
      "name": "python3",
      "display_name": "Python 3"
    },
    "language_info": {
      "name": "python"
    }
  },
  "cells": [
    {
      "cell_type": "markdown",
      "metadata": {
        "id": "view-in-github",
        "colab_type": "text"
      },
      "source": [
        "<a href=\"https://colab.research.google.com/github/yodavo/Learning_ML-DP-GIS/blob/main/2021/2021_12_Statsmodel_Training.ipynb\" target=\"_parent\"><img src=\"https://colab.research.google.com/assets/colab-badge.svg\" alt=\"Open In Colab\"/></a>"
      ]
    },
    {
      "cell_type": "markdown",
      "source": [
        "# **0. Intro to Statsmodels**"
      ],
      "metadata": {
        "id": "nxKfBTF5bb0C"
      }
    },
    {
      "cell_type": "code",
      "source": [
        "import numpy as np\n",
        "import pandas as pd\n",
        "import statsmodels.api as sm\n",
        "import statsmodels.formula.api as smf\n",
        "import warnings\n",
        "warnings.simplefilter(action='ignore', category=FutureWarning)"
      ],
      "metadata": {
        "id": "7FtzgCy8bftH"
      },
      "execution_count": 2,
      "outputs": []
    },
    {
      "cell_type": "code",
      "source": [
        "data = sm.datasets.get_rdataset(\"Guerry\", \"HistData\").data\n",
        "data.columns"
      ],
      "metadata": {
        "colab": {
          "base_uri": "https://localhost:8080/"
        },
        "id": "uvyipLOpcRxJ",
        "outputId": "96da7f49-62e1-44ee-cc67-27cbf208a60b"
      },
      "execution_count": 3,
      "outputs": [
        {
          "output_type": "execute_result",
          "data": {
            "text/plain": [
              "Index(['dept', 'Region', 'Department', 'Crime_pers', 'Crime_prop', 'Literacy',\n",
              "       'Donations', 'Infants', 'Suicides', 'MainCity', 'Wealth', 'Commerce',\n",
              "       'Clergy', 'Crime_parents', 'Infanticide', 'Donation_clergy', 'Lottery',\n",
              "       'Desertion', 'Instruction', 'Prostitutes', 'Distance', 'Area',\n",
              "       'Pop1831'],\n",
              "      dtype='object')"
            ]
          },
          "metadata": {},
          "execution_count": 3
        }
      ]
    },
    {
      "cell_type": "markdown",
      "source": [
        "## **0.1. Using Rstyle formulas**"
      ],
      "metadata": {
        "id": "FEr-qTK8dqyT"
      }
    },
    {
      "cell_type": "code",
      "source": [
        "# Fit OLS regression use ln\n",
        "res = smf.ols(\"Lottery ~ Literacy + np.log(Pop1831)\", data = data).fit()\n",
        "print(res.summary())"
      ],
      "metadata": {
        "colab": {
          "base_uri": "https://localhost:8080/"
        },
        "id": "B4Zon2eIcyTo",
        "outputId": "004434dd-be67-4498-8cee-27cfdeecd0d7"
      },
      "execution_count": 4,
      "outputs": [
        {
          "output_type": "stream",
          "name": "stdout",
          "text": [
            "                            OLS Regression Results                            \n",
            "==============================================================================\n",
            "Dep. Variable:                Lottery   R-squared:                       0.348\n",
            "Model:                            OLS   Adj. R-squared:                  0.333\n",
            "Method:                 Least Squares   F-statistic:                     22.20\n",
            "Date:                Sat, 18 Dec 2021   Prob (F-statistic):           1.90e-08\n",
            "Time:                        21:39:12   Log-Likelihood:                -379.82\n",
            "No. Observations:                  86   AIC:                             765.6\n",
            "Df Residuals:                      83   BIC:                             773.0\n",
            "Df Model:                           2                                         \n",
            "Covariance Type:            nonrobust                                         \n",
            "===================================================================================\n",
            "                      coef    std err          t      P>|t|      [0.025      0.975]\n",
            "-----------------------------------------------------------------------------------\n",
            "Intercept         246.4341     35.233      6.995      0.000     176.358     316.510\n",
            "Literacy           -0.4889      0.128     -3.832      0.000      -0.743      -0.235\n",
            "np.log(Pop1831)   -31.3114      5.977     -5.239      0.000     -43.199     -19.424\n",
            "==============================================================================\n",
            "Omnibus:                        3.713   Durbin-Watson:                   2.019\n",
            "Prob(Omnibus):                  0.156   Jarque-Bera (JB):                3.394\n",
            "Skew:                          -0.487   Prob(JB):                        0.183\n",
            "Kurtosis:                       3.003   Cond. No.                         702.\n",
            "==============================================================================\n",
            "\n",
            "Warnings:\n",
            "[1] Standard Errors assume that the covariance matrix of the errors is correctly specified.\n"
          ]
        }
      ]
    },
    {
      "cell_type": "markdown",
      "source": [
        "## **0.2 With numpy arrays**"
      ],
      "metadata": {
        "id": "R3yp-t1sd52l"
      }
    },
    {
      "cell_type": "code",
      "source": [
        "# creating arrays to test on\n",
        "# coef\n",
        "nobs = 100\n",
        "X = np.random.random((nobs, 2))\n",
        "X = sm.add_constant(X)\n",
        "\n",
        "# beta\n",
        "beta = [1,.1,.5] # coef\n",
        "e = np.random.random(nobs) # error\n",
        "y = np.dot(X, beta) + e\n",
        "\n",
        "# modeling\n",
        "res_2 = sm.OLS(y, X).fit()\n",
        "print(res_2.summary())"
      ],
      "metadata": {
        "id": "hk8gYfaScyQO",
        "colab": {
          "base_uri": "https://localhost:8080/"
        },
        "outputId": "126b8adf-4a64-4c87-c68b-70a013114b6b"
      },
      "execution_count": 5,
      "outputs": [
        {
          "output_type": "stream",
          "name": "stdout",
          "text": [
            "                            OLS Regression Results                            \n",
            "==============================================================================\n",
            "Dep. Variable:                      y   R-squared:                       0.288\n",
            "Model:                            OLS   Adj. R-squared:                  0.273\n",
            "Method:                 Least Squares   F-statistic:                     19.63\n",
            "Date:                Sat, 18 Dec 2021   Prob (F-statistic):           6.96e-08\n",
            "Time:                        21:39:52   Log-Likelihood:                -19.791\n",
            "No. Observations:                 100   AIC:                             45.58\n",
            "Df Residuals:                      97   BIC:                             53.40\n",
            "Df Model:                           2                                         \n",
            "Covariance Type:            nonrobust                                         \n",
            "==============================================================================\n",
            "                 coef    std err          t      P>|t|      [0.025      0.975]\n",
            "------------------------------------------------------------------------------\n",
            "const          1.5589      0.088     17.675      0.000       1.384       1.734\n",
            "x1            -0.1109      0.106     -1.042      0.300      -0.322       0.100\n",
            "x2             0.6141      0.104      5.909      0.000       0.408       0.820\n",
            "==============================================================================\n",
            "Omnibus:                       37.363   Durbin-Watson:                   2.024\n",
            "Prob(Omnibus):                  0.000   Jarque-Bera (JB):                6.265\n",
            "Skew:                          -0.048   Prob(JB):                       0.0436\n",
            "Kurtosis:                       1.778   Cond. No.                         5.92\n",
            "==============================================================================\n",
            "\n",
            "Warnings:\n",
            "[1] Standard Errors assume that the covariance matrix of the errors is correctly specified.\n"
          ]
        }
      ]
    },
    {
      "cell_type": "markdown",
      "source": [
        "## **0.3. Directories inside the summary tables**\n",
        "HUGE HELP"
      ],
      "metadata": {
        "id": "sVcdWRE5fOiH"
      }
    },
    {
      "cell_type": "code",
      "source": [
        "dir(res)"
      ],
      "metadata": {
        "colab": {
          "base_uri": "https://localhost:8080/"
        },
        "id": "Hs0fHERSfW_F",
        "outputId": "5f99e4bc-2140-466c-d950-eece0bbcbe95"
      },
      "execution_count": 6,
      "outputs": [
        {
          "output_type": "execute_result",
          "data": {
            "text/plain": [
              "['HC0_se',\n",
              " 'HC1_se',\n",
              " 'HC2_se',\n",
              " 'HC3_se',\n",
              " '_HCCM',\n",
              " '__class__',\n",
              " '__delattr__',\n",
              " '__dict__',\n",
              " '__dir__',\n",
              " '__doc__',\n",
              " '__eq__',\n",
              " '__format__',\n",
              " '__ge__',\n",
              " '__getattribute__',\n",
              " '__gt__',\n",
              " '__hash__',\n",
              " '__init__',\n",
              " '__init_subclass__',\n",
              " '__le__',\n",
              " '__lt__',\n",
              " '__module__',\n",
              " '__ne__',\n",
              " '__new__',\n",
              " '__reduce__',\n",
              " '__reduce_ex__',\n",
              " '__repr__',\n",
              " '__setattr__',\n",
              " '__sizeof__',\n",
              " '__str__',\n",
              " '__subclasshook__',\n",
              " '__weakref__',\n",
              " '_cache',\n",
              " '_data_attr',\n",
              " '_get_robustcov_results',\n",
              " '_is_nested',\n",
              " '_wexog_singular_values',\n",
              " 'aic',\n",
              " 'bic',\n",
              " 'bse',\n",
              " 'centered_tss',\n",
              " 'compare_f_test',\n",
              " 'compare_lm_test',\n",
              " 'compare_lr_test',\n",
              " 'condition_number',\n",
              " 'conf_int',\n",
              " 'conf_int_el',\n",
              " 'cov_HC0',\n",
              " 'cov_HC1',\n",
              " 'cov_HC2',\n",
              " 'cov_HC3',\n",
              " 'cov_kwds',\n",
              " 'cov_params',\n",
              " 'cov_type',\n",
              " 'df_model',\n",
              " 'df_resid',\n",
              " 'diagn',\n",
              " 'eigenvals',\n",
              " 'el_test',\n",
              " 'ess',\n",
              " 'f_pvalue',\n",
              " 'f_test',\n",
              " 'fittedvalues',\n",
              " 'fvalue',\n",
              " 'get_influence',\n",
              " 'get_prediction',\n",
              " 'get_robustcov_results',\n",
              " 'initialize',\n",
              " 'k_constant',\n",
              " 'llf',\n",
              " 'load',\n",
              " 'model',\n",
              " 'mse_model',\n",
              " 'mse_resid',\n",
              " 'mse_total',\n",
              " 'nobs',\n",
              " 'normalized_cov_params',\n",
              " 'outlier_test',\n",
              " 'params',\n",
              " 'predict',\n",
              " 'pvalues',\n",
              " 'remove_data',\n",
              " 'resid',\n",
              " 'resid_pearson',\n",
              " 'rsquared',\n",
              " 'rsquared_adj',\n",
              " 'save',\n",
              " 'scale',\n",
              " 'ssr',\n",
              " 'summary',\n",
              " 'summary2',\n",
              " 't_test',\n",
              " 't_test_pairwise',\n",
              " 'tvalues',\n",
              " 'uncentered_tss',\n",
              " 'use_t',\n",
              " 'wald_test',\n",
              " 'wald_test_terms',\n",
              " 'wresid']"
            ]
          },
          "metadata": {},
          "execution_count": 6
        }
      ]
    },
    {
      "cell_type": "markdown",
      "source": [
        "# **1. Getting Started with statsmodels**"
      ],
      "metadata": {
        "id": "fMrqKXEAgCeF"
      }
    },
    {
      "cell_type": "code",
      "source": [
        "import statsmodels.api as sm\n",
        "import pandas as pd\n",
        "from patsy import dmatrices"
      ],
      "metadata": {
        "id": "AeHXCuiqgFpk"
      },
      "execution_count": 7,
      "outputs": []
    },
    {
      "cell_type": "code",
      "source": [
        "# dataset\n",
        "df = sm.datasets.get_rdataset(\"Guerry\", \"HistData\").data\n",
        "\n",
        "# choose variables\n",
        "vars = [\"Department\", \"Lottery\", \"Literacy\", \"Wealth\", \"Region\"]\n",
        "df = df[vars]\n",
        "\n",
        "# missign value cleaning\n",
        "df = df.dropna()\n",
        "\n",
        "# review\n",
        "df.info()"
      ],
      "metadata": {
        "colab": {
          "base_uri": "https://localhost:8080/"
        },
        "id": "JSwdUN5agPnm",
        "outputId": "2c3f7ddb-3189-4ba3-9c74-48abc6e72e14"
      },
      "execution_count": 12,
      "outputs": [
        {
          "output_type": "stream",
          "name": "stdout",
          "text": [
            "<class 'pandas.core.frame.DataFrame'>\n",
            "Int64Index: 85 entries, 0 to 84\n",
            "Data columns (total 5 columns):\n",
            " #   Column      Non-Null Count  Dtype \n",
            "---  ------      --------------  ----- \n",
            " 0   Department  85 non-null     object\n",
            " 1   Lottery     85 non-null     int64 \n",
            " 2   Literacy    85 non-null     int64 \n",
            " 3   Wealth      85 non-null     int64 \n",
            " 4   Region      85 non-null     object\n",
            "dtypes: int64(3), object(2)\n",
            "memory usage: 4.0+ KB\n"
          ]
        }
      ]
    },
    {
      "cell_type": "markdown",
      "source": [
        "**OLS variable** - Ordinary least squeares\n",
        "\n",
        "$\\hat{\\beta} = (X'X)^{-1}X'y$\n",
        "\n",
        "Evertyhing in column matrices!\n",
        "\n",
        "**Some variables names**\n",
        "1. Endogeneus variable:\n",
        "  - Dependent\n",
        "  - Response\n",
        "  - Regressand\n",
        "\n",
        "2. Exogeneus variable:\n",
        "  - Independent\n",
        "  - Regressor\n",
        "\n"
      ],
      "metadata": {
        "id": "anXDJk27hQ4Y"
      }
    },
    {
      "cell_type": "markdown",
      "source": [
        "## **1.1. Use patsy for create matrices-dataframes**"
      ],
      "metadata": {
        "id": "nbRmkXu-jqcM"
      }
    },
    {
      "cell_type": "code",
      "source": [
        "# Using patsy (dmatrices) to create dataframes ready to be used in models\n",
        "# This is awesome!!!!\n",
        "y, X = dmatrices('Lottery ~ Literacy + Wealth + Region', \n",
        "                 data=df, return_type='dataframe')\n",
        "X.head()"
      ],
      "metadata": {
        "colab": {
          "base_uri": "https://localhost:8080/",
          "height": 206
        },
        "id": "lxAwweiogxwq",
        "outputId": "748a1644-5320-4f89-b8d6-8c4114afdf0d"
      },
      "execution_count": 19,
      "outputs": [
        {
          "output_type": "execute_result",
          "data": {
            "text/html": [
              "\n",
              "  <div id=\"df-5c8c27dd-222c-4171-8026-7b407a65ef6d\">\n",
              "    <div class=\"colab-df-container\">\n",
              "      <div>\n",
              "<style scoped>\n",
              "    .dataframe tbody tr th:only-of-type {\n",
              "        vertical-align: middle;\n",
              "    }\n",
              "\n",
              "    .dataframe tbody tr th {\n",
              "        vertical-align: top;\n",
              "    }\n",
              "\n",
              "    .dataframe thead th {\n",
              "        text-align: right;\n",
              "    }\n",
              "</style>\n",
              "<table border=\"1\" class=\"dataframe\">\n",
              "  <thead>\n",
              "    <tr style=\"text-align: right;\">\n",
              "      <th></th>\n",
              "      <th>Intercept</th>\n",
              "      <th>Region[T.E]</th>\n",
              "      <th>Region[T.N]</th>\n",
              "      <th>Region[T.S]</th>\n",
              "      <th>Region[T.W]</th>\n",
              "      <th>Literacy</th>\n",
              "      <th>Wealth</th>\n",
              "    </tr>\n",
              "  </thead>\n",
              "  <tbody>\n",
              "    <tr>\n",
              "      <th>0</th>\n",
              "      <td>1.0</td>\n",
              "      <td>1.0</td>\n",
              "      <td>0.0</td>\n",
              "      <td>0.0</td>\n",
              "      <td>0.0</td>\n",
              "      <td>37.0</td>\n",
              "      <td>73.0</td>\n",
              "    </tr>\n",
              "    <tr>\n",
              "      <th>1</th>\n",
              "      <td>1.0</td>\n",
              "      <td>0.0</td>\n",
              "      <td>1.0</td>\n",
              "      <td>0.0</td>\n",
              "      <td>0.0</td>\n",
              "      <td>51.0</td>\n",
              "      <td>22.0</td>\n",
              "    </tr>\n",
              "    <tr>\n",
              "      <th>2</th>\n",
              "      <td>1.0</td>\n",
              "      <td>0.0</td>\n",
              "      <td>0.0</td>\n",
              "      <td>0.0</td>\n",
              "      <td>0.0</td>\n",
              "      <td>13.0</td>\n",
              "      <td>61.0</td>\n",
              "    </tr>\n",
              "    <tr>\n",
              "      <th>3</th>\n",
              "      <td>1.0</td>\n",
              "      <td>1.0</td>\n",
              "      <td>0.0</td>\n",
              "      <td>0.0</td>\n",
              "      <td>0.0</td>\n",
              "      <td>46.0</td>\n",
              "      <td>76.0</td>\n",
              "    </tr>\n",
              "    <tr>\n",
              "      <th>4</th>\n",
              "      <td>1.0</td>\n",
              "      <td>1.0</td>\n",
              "      <td>0.0</td>\n",
              "      <td>0.0</td>\n",
              "      <td>0.0</td>\n",
              "      <td>69.0</td>\n",
              "      <td>83.0</td>\n",
              "    </tr>\n",
              "  </tbody>\n",
              "</table>\n",
              "</div>\n",
              "      <button class=\"colab-df-convert\" onclick=\"convertToInteractive('df-5c8c27dd-222c-4171-8026-7b407a65ef6d')\"\n",
              "              title=\"Convert this dataframe to an interactive table.\"\n",
              "              style=\"display:none;\">\n",
              "        \n",
              "  <svg xmlns=\"http://www.w3.org/2000/svg\" height=\"24px\"viewBox=\"0 0 24 24\"\n",
              "       width=\"24px\">\n",
              "    <path d=\"M0 0h24v24H0V0z\" fill=\"none\"/>\n",
              "    <path d=\"M18.56 5.44l.94 2.06.94-2.06 2.06-.94-2.06-.94-.94-2.06-.94 2.06-2.06.94zm-11 1L8.5 8.5l.94-2.06 2.06-.94-2.06-.94L8.5 2.5l-.94 2.06-2.06.94zm10 10l.94 2.06.94-2.06 2.06-.94-2.06-.94-.94-2.06-.94 2.06-2.06.94z\"/><path d=\"M17.41 7.96l-1.37-1.37c-.4-.4-.92-.59-1.43-.59-.52 0-1.04.2-1.43.59L10.3 9.45l-7.72 7.72c-.78.78-.78 2.05 0 2.83L4 21.41c.39.39.9.59 1.41.59.51 0 1.02-.2 1.41-.59l7.78-7.78 2.81-2.81c.8-.78.8-2.07 0-2.86zM5.41 20L4 18.59l7.72-7.72 1.47 1.35L5.41 20z\"/>\n",
              "  </svg>\n",
              "      </button>\n",
              "      \n",
              "  <style>\n",
              "    .colab-df-container {\n",
              "      display:flex;\n",
              "      flex-wrap:wrap;\n",
              "      gap: 12px;\n",
              "    }\n",
              "\n",
              "    .colab-df-convert {\n",
              "      background-color: #E8F0FE;\n",
              "      border: none;\n",
              "      border-radius: 50%;\n",
              "      cursor: pointer;\n",
              "      display: none;\n",
              "      fill: #1967D2;\n",
              "      height: 32px;\n",
              "      padding: 0 0 0 0;\n",
              "      width: 32px;\n",
              "    }\n",
              "\n",
              "    .colab-df-convert:hover {\n",
              "      background-color: #E2EBFA;\n",
              "      box-shadow: 0px 1px 2px rgba(60, 64, 67, 0.3), 0px 1px 3px 1px rgba(60, 64, 67, 0.15);\n",
              "      fill: #174EA6;\n",
              "    }\n",
              "\n",
              "    [theme=dark] .colab-df-convert {\n",
              "      background-color: #3B4455;\n",
              "      fill: #D2E3FC;\n",
              "    }\n",
              "\n",
              "    [theme=dark] .colab-df-convert:hover {\n",
              "      background-color: #434B5C;\n",
              "      box-shadow: 0px 1px 3px 1px rgba(0, 0, 0, 0.15);\n",
              "      filter: drop-shadow(0px 1px 2px rgba(0, 0, 0, 0.3));\n",
              "      fill: #FFFFFF;\n",
              "    }\n",
              "  </style>\n",
              "\n",
              "      <script>\n",
              "        const buttonEl =\n",
              "          document.querySelector('#df-5c8c27dd-222c-4171-8026-7b407a65ef6d button.colab-df-convert');\n",
              "        buttonEl.style.display =\n",
              "          google.colab.kernel.accessAllowed ? 'block' : 'none';\n",
              "\n",
              "        async function convertToInteractive(key) {\n",
              "          const element = document.querySelector('#df-5c8c27dd-222c-4171-8026-7b407a65ef6d');\n",
              "          const dataTable =\n",
              "            await google.colab.kernel.invokeFunction('convertToInteractive',\n",
              "                                                     [key], {});\n",
              "          if (!dataTable) return;\n",
              "\n",
              "          const docLinkHtml = 'Like what you see? Visit the ' +\n",
              "            '<a target=\"_blank\" href=https://colab.research.google.com/notebooks/data_table.ipynb>data table notebook</a>'\n",
              "            + ' to learn more about interactive tables.';\n",
              "          element.innerHTML = '';\n",
              "          dataTable['output_type'] = 'display_data';\n",
              "          await google.colab.output.renderOutput(dataTable, element);\n",
              "          const docLink = document.createElement('div');\n",
              "          docLink.innerHTML = docLinkHtml;\n",
              "          element.appendChild(docLink);\n",
              "        }\n",
              "      </script>\n",
              "    </div>\n",
              "  </div>\n",
              "  "
            ],
            "text/plain": [
              "   Intercept  Region[T.E]  Region[T.N]  ...  Region[T.W]  Literacy  Wealth\n",
              "0        1.0          1.0          0.0  ...          0.0      37.0    73.0\n",
              "1        1.0          0.0          1.0  ...          0.0      51.0    22.0\n",
              "2        1.0          0.0          0.0  ...          0.0      13.0    61.0\n",
              "3        1.0          1.0          0.0  ...          0.0      46.0    76.0\n",
              "4        1.0          1.0          0.0  ...          0.0      69.0    83.0\n",
              "\n",
              "[5 rows x 7 columns]"
            ]
          },
          "metadata": {},
          "execution_count": 19
        }
      ]
    },
    {
      "cell_type": "markdown",
      "source": [
        "## **1.2. Describe and fit the model**"
      ],
      "metadata": {
        "id": "nnt7FW5LjvGv"
      }
    },
    {
      "cell_type": "code",
      "source": [
        "# Describe Model\n",
        "mod = sm.OLS(y, X)\n",
        "\n",
        "# Fit Model\n",
        "res = mod.fit()\n",
        "\n",
        "# Summarize Model\n",
        "print(res.summary())"
      ],
      "metadata": {
        "colab": {
          "base_uri": "https://localhost:8080/"
        },
        "id": "JTs3yu4wiU5v",
        "outputId": "859e98a6-dd88-4f3b-a21f-32e202692a60"
      },
      "execution_count": 21,
      "outputs": [
        {
          "output_type": "stream",
          "name": "stdout",
          "text": [
            "                            OLS Regression Results                            \n",
            "==============================================================================\n",
            "Dep. Variable:                Lottery   R-squared:                       0.338\n",
            "Model:                            OLS   Adj. R-squared:                  0.287\n",
            "Method:                 Least Squares   F-statistic:                     6.636\n",
            "Date:                Sat, 18 Dec 2021   Prob (F-statistic):           1.07e-05\n",
            "Time:                        22:00:23   Log-Likelihood:                -375.30\n",
            "No. Observations:                  85   AIC:                             764.6\n",
            "Df Residuals:                      78   BIC:                             781.7\n",
            "Df Model:                           6                                         \n",
            "Covariance Type:            nonrobust                                         \n",
            "===============================================================================\n",
            "                  coef    std err          t      P>|t|      [0.025      0.975]\n",
            "-------------------------------------------------------------------------------\n",
            "Intercept      38.6517      9.456      4.087      0.000      19.826      57.478\n",
            "Region[T.E]   -15.4278      9.727     -1.586      0.117     -34.793       3.938\n",
            "Region[T.N]   -10.0170      9.260     -1.082      0.283     -28.453       8.419\n",
            "Region[T.S]    -4.5483      7.279     -0.625      0.534     -19.039       9.943\n",
            "Region[T.W]   -10.0913      7.196     -1.402      0.165     -24.418       4.235\n",
            "Literacy       -0.1858      0.210     -0.886      0.378      -0.603       0.232\n",
            "Wealth          0.4515      0.103      4.390      0.000       0.247       0.656\n",
            "==============================================================================\n",
            "Omnibus:                        3.049   Durbin-Watson:                   1.785\n",
            "Prob(Omnibus):                  0.218   Jarque-Bera (JB):                2.694\n",
            "Skew:                          -0.340   Prob(JB):                        0.260\n",
            "Kurtosis:                       2.454   Cond. No.                         371.\n",
            "==============================================================================\n",
            "\n",
            "Warnings:\n",
            "[1] Standard Errors assume that the covariance matrix of the errors is correctly specified.\n"
          ]
        }
      ]
    },
    {
      "cell_type": "code",
      "source": [
        "print(res.params)\n",
        "print(\"=========================\")\n",
        "print(res.rsquared)"
      ],
      "metadata": {
        "colab": {
          "base_uri": "https://localhost:8080/"
        },
        "id": "ruju84KBj5aq",
        "outputId": "d945b375-54e3-4943-fe41-d5fb0aca613a"
      },
      "execution_count": 25,
      "outputs": [
        {
          "output_type": "stream",
          "name": "stdout",
          "text": [
            "Intercept      38.651655\n",
            "Region[T.E]   -15.427785\n",
            "Region[T.N]   -10.016961\n",
            "Region[T.S]    -4.548257\n",
            "Region[T.W]   -10.091276\n",
            "Literacy       -0.185819\n",
            "Wealth          0.451475\n",
            "dtype: float64\n",
            "=========================\n",
            "0.3379508691928822\n"
          ]
        }
      ]
    },
    {
      "cell_type": "markdown",
      "source": [
        "## **1.3. Diagnostics and specification test**"
      ],
      "metadata": {
        "id": "GC-MwyEokBlU"
      }
    },
    {
      "cell_type": "code",
      "source": [
        "# rainow test for linearity\n",
        "# Null hipotesis = the model is linear\n",
        "sm.stats.linear_rainbow(res)\n",
        "# give a tuple (fstats, p-value)"
      ],
      "metadata": {
        "colab": {
          "base_uri": "https://localhost:8080/"
        },
        "id": "UjECRXLFkFT7",
        "outputId": "f6ee46ae-6dcb-45f1-ac05-dd60bb117ced"
      },
      "execution_count": 26,
      "outputs": [
        {
          "output_type": "execute_result",
          "data": {
            "text/plain": [
              "(0.847233997615691, 0.6997965543621644)"
            ]
          },
          "metadata": {},
          "execution_count": 26
        }
      ]
    },
    {
      "cell_type": "code",
      "source": [
        "print(sm.stats.linear_rainbow.__doc__)"
      ],
      "metadata": {
        "colab": {
          "base_uri": "https://localhost:8080/"
        },
        "id": "ZNF4ZzS0kFaW",
        "outputId": "793803f3-ded1-401a-f6ce-0b626398192e"
      },
      "execution_count": 27,
      "outputs": [
        {
          "output_type": "stream",
          "name": "stdout",
          "text": [
            "Rainbow test for linearity\n",
            "\n",
            "    The Null hypothesis is that the regression is correctly modelled as linear.\n",
            "    The alternative for which the power might be large are convex, check\n",
            "\n",
            "    Parameters\n",
            "    ----------\n",
            "    res : Result instance\n",
            "\n",
            "    Returns\n",
            "    -------\n",
            "    fstat : float\n",
            "        test statistic based of F test\n",
            "    pvalue : float\n",
            "        pvalue of the test\n",
            "\n",
            "    \n"
          ]
        }
      ]
    },
    {
      "cell_type": "markdown",
      "source": [
        "## **1.4. Graphs from plot**"
      ],
      "metadata": {
        "id": "qdQKfDDRkjjP"
      }
    },
    {
      "cell_type": "code",
      "source": [
        "# plot\n",
        "sm.graphics.plot_partregress('Lottery', 'Wealth', ['Region', 'Literacy'],\n",
        "                            data=df, obs_labels = False)"
      ],
      "metadata": {
        "colab": {
          "base_uri": "https://localhost:8080/",
          "height": 575
        },
        "id": "t1c44h3IkgKc",
        "outputId": "5d23a2fb-9bb6-4882-b41f-6ddc8bd4145f"
      },
      "execution_count": 28,
      "outputs": [
        {
          "output_type": "execute_result",
          "data": {
            "image/png": "[encoded data removed]",
            "text/plain": [
              "<Figure size 432x288 with 1 Axes>"
            ]
          },
          "metadata": {},
          "execution_count": 28
        },
        {
          "output_type": "display_data",
          "data": {
            "image/png": "[encoded data removed]",
            "text/plain": [
              "<Figure size 432x288 with 1 Axes>"
            ]
          },
          "metadata": {
            "needs_background": "light"
          }
        }
      ]
    },
    {
      "cell_type": "markdown",
      "source": [
        "# **2. Fitting Models Using R-style Formulas**"
      ],
      "metadata": {
        "id": "gg9uuNvUkugD"
      }
    },
    {
      "cell_type": "code",
      "source": [
        "df = sm.datasets.get_rdataset(\"Guerry\", \"HistData\").data\n",
        "df = df[[\"Lottery\", \"Literacy\", \"Wealth\", \"Region\"]].dropna() # it does the dummy automatically\n",
        "res = smf.ols(formula=\"Lottery ~ Literacy + Wealth + Region\", data=df).fit()\n",
        "print(res.summary())"
      ],
      "metadata": {
        "colab": {
          "base_uri": "https://localhost:8080/"
        },
        "id": "QA1hYcsJkgGt",
        "outputId": "b60404a7-1a6b-495e-b3c6-94d650339e54"
      },
      "execution_count": 30,
      "outputs": [
        {
          "output_type": "stream",
          "name": "stdout",
          "text": [
            "                            OLS Regression Results                            \n",
            "==============================================================================\n",
            "Dep. Variable:                Lottery   R-squared:                       0.338\n",
            "Model:                            OLS   Adj. R-squared:                  0.287\n",
            "Method:                 Least Squares   F-statistic:                     6.636\n",
            "Date:                Sat, 18 Dec 2021   Prob (F-statistic):           1.07e-05\n",
            "Time:                        22:04:42   Log-Likelihood:                -375.30\n",
            "No. Observations:                  85   AIC:                             764.6\n",
            "Df Residuals:                      78   BIC:                             781.7\n",
            "Df Model:                           6                                         \n",
            "Covariance Type:            nonrobust                                         \n",
            "===============================================================================\n",
            "                  coef    std err          t      P>|t|      [0.025      0.975]\n",
            "-------------------------------------------------------------------------------\n",
            "Intercept      38.6517      9.456      4.087      0.000      19.826      57.478\n",
            "Region[T.E]   -15.4278      9.727     -1.586      0.117     -34.793       3.938\n",
            "Region[T.N]   -10.0170      9.260     -1.082      0.283     -28.453       8.419\n",
            "Region[T.S]    -4.5483      7.279     -0.625      0.534     -19.039       9.943\n",
            "Region[T.W]   -10.0913      7.196     -1.402      0.165     -24.418       4.235\n",
            "Literacy       -0.1858      0.210     -0.886      0.378      -0.603       0.232\n",
            "Wealth          0.4515      0.103      4.390      0.000       0.247       0.656\n",
            "==============================================================================\n",
            "Omnibus:                        3.049   Durbin-Watson:                   1.785\n",
            "Prob(Omnibus):                  0.218   Jarque-Bera (JB):                2.694\n",
            "Skew:                          -0.340   Prob(JB):                        0.260\n",
            "Kurtosis:                       2.454   Cond. No.                         371.\n",
            "==============================================================================\n",
            "\n",
            "Warnings:\n",
            "[1] Standard Errors assume that the covariance matrix of the errors is correctly specified.\n"
          ]
        }
      ]
    },
    {
      "cell_type": "markdown",
      "source": [
        "## **2.1. Categorical Variables**"
      ],
      "metadata": {
        "id": "XqN88axkk5M8"
      }
    },
    {
      "cell_type": "code",
      "source": [
        "# getting categorical variables\n",
        "df.Region.unique()"
      ],
      "metadata": {
        "colab": {
          "base_uri": "https://localhost:8080/"
        },
        "id": "QePbdxB_k3Wu",
        "outputId": "aa8f0f32-52d0-429b-8a03-446210a01fce"
      },
      "execution_count": 32,
      "outputs": [
        {
          "output_type": "execute_result",
          "data": {
            "text/plain": [
              "array(['E', 'N', 'C', 'S', 'W'], dtype=object)"
            ]
          },
          "metadata": {},
          "execution_count": 32
        }
      ]
    },
    {
      "cell_type": "code",
      "source": [
        "# To explicitly state Region is categorical\n",
        "res_c = smf.ols(formula=\"Lottery ~ Literacy + Wealth + C(Region)\", data=df).fit()\n",
        "print(res_c.summary())"
      ],
      "metadata": {
        "colab": {
          "base_uri": "https://localhost:8080/"
        },
        "id": "05LVj-SBk3Sv",
        "outputId": "8a67e55d-1dd1-4f3a-ee9b-e43fcf55948e"
      },
      "execution_count": 34,
      "outputs": [
        {
          "output_type": "stream",
          "name": "stdout",
          "text": [
            "                            OLS Regression Results                            \n",
            "==============================================================================\n",
            "Dep. Variable:                Lottery   R-squared:                       0.338\n",
            "Model:                            OLS   Adj. R-squared:                  0.287\n",
            "Method:                 Least Squares   F-statistic:                     6.636\n",
            "Date:                Sat, 18 Dec 2021   Prob (F-statistic):           1.07e-05\n",
            "Time:                        22:07:33   Log-Likelihood:                -375.30\n",
            "No. Observations:                  85   AIC:                             764.6\n",
            "Df Residuals:                      78   BIC:                             781.7\n",
            "Df Model:                           6                                         \n",
            "Covariance Type:            nonrobust                                         \n",
            "==================================================================================\n",
            "                     coef    std err          t      P>|t|      [0.025      0.975]\n",
            "----------------------------------------------------------------------------------\n",
            "Intercept         38.6517      9.456      4.087      0.000      19.826      57.478\n",
            "C(Region)[T.E]   -15.4278      9.727     -1.586      0.117     -34.793       3.938\n",
            "C(Region)[T.N]   -10.0170      9.260     -1.082      0.283     -28.453       8.419\n",
            "C(Region)[T.S]    -4.5483      7.279     -0.625      0.534     -19.039       9.943\n",
            "C(Region)[T.W]   -10.0913      7.196     -1.402      0.165     -24.418       4.235\n",
            "Literacy          -0.1858      0.210     -0.886      0.378      -0.603       0.232\n",
            "Wealth             0.4515      0.103      4.390      0.000       0.247       0.656\n",
            "==============================================================================\n",
            "Omnibus:                        3.049   Durbin-Watson:                   1.785\n",
            "Prob(Omnibus):                  0.218   Jarque-Bera (JB):                2.694\n",
            "Skew:                          -0.340   Prob(JB):                        0.260\n",
            "Kurtosis:                       2.454   Cond. No.                         371.\n",
            "==============================================================================\n",
            "\n",
            "Warnings:\n",
            "[1] Standard Errors assume that the covariance matrix of the errors is correctly specified.\n"
          ]
        }
      ]
    },
    {
      "cell_type": "code",
      "source": [
        "# To remove variables, removing the constant (intercept)\n",
        "res_nc = smf.ols(formula=\"Lottery ~ Literacy + Wealth + C(Region) - 1\", data=df).fit()\n",
        "print(res_nc.summary())"
      ],
      "metadata": {
        "colab": {
          "base_uri": "https://localhost:8080/"
        },
        "id": "e29kiRzqk3No",
        "outputId": "c68eae0e-189d-4da3-d55f-9bb6e0d502f4"
      },
      "execution_count": 36,
      "outputs": [
        {
          "output_type": "stream",
          "name": "stdout",
          "text": [
            "                            OLS Regression Results                            \n",
            "==============================================================================\n",
            "Dep. Variable:                Lottery   R-squared:                       0.338\n",
            "Model:                            OLS   Adj. R-squared:                  0.287\n",
            "Method:                 Least Squares   F-statistic:                     6.636\n",
            "Date:                Sat, 18 Dec 2021   Prob (F-statistic):           1.07e-05\n",
            "Time:                        22:08:32   Log-Likelihood:                -375.30\n",
            "No. Observations:                  85   AIC:                             764.6\n",
            "Df Residuals:                      78   BIC:                             781.7\n",
            "Df Model:                           6                                         \n",
            "Covariance Type:            nonrobust                                         \n",
            "================================================================================\n",
            "                   coef    std err          t      P>|t|      [0.025      0.975]\n",
            "--------------------------------------------------------------------------------\n",
            "C(Region)[C]    38.6517      9.456      4.087      0.000      19.826      57.478\n",
            "C(Region)[E]    23.2239     14.931      1.555      0.124      -6.501      52.949\n",
            "C(Region)[N]    28.6347     13.127      2.181      0.032       2.501      54.769\n",
            "C(Region)[S]    34.1034     10.370      3.289      0.002      13.459      54.748\n",
            "C(Region)[W]    28.5604     10.018      2.851      0.006       8.616      48.505\n",
            "Literacy        -0.1858      0.210     -0.886      0.378      -0.603       0.232\n",
            "Wealth           0.4515      0.103      4.390      0.000       0.247       0.656\n",
            "==============================================================================\n",
            "Omnibus:                        3.049   Durbin-Watson:                   1.785\n",
            "Prob(Omnibus):                  0.218   Jarque-Bera (JB):                2.694\n",
            "Skew:                          -0.340   Prob(JB):                        0.260\n",
            "Kurtosis:                       2.454   Cond. No.                         653.\n",
            "==============================================================================\n",
            "\n",
            "Warnings:\n",
            "[1] Standard Errors assume that the covariance matrix of the errors is correctly specified.\n"
          ]
        }
      ]
    },
    {
      "cell_type": "code",
      "source": [
        "# Interactions: Matrix (:)\n",
        "res_int1 = smf.ols(formula=\"Lottery ~ Literacy:Wealth -1\", data=df).fit()\n",
        "print(res_int1.params)"
      ],
      "metadata": {
        "colab": {
          "base_uri": "https://localhost:8080/"
        },
        "id": "8OqPWoVjk3JI",
        "outputId": "e65e2cc6-ec39-4ea0-8ce0-ddde14daff4d"
      },
      "execution_count": 37,
      "outputs": [
        {
          "output_type": "stream",
          "name": "stdout",
          "text": [
            "Literacy:Wealth    0.018176\n",
            "dtype: float64\n"
          ]
        }
      ]
    },
    {
      "cell_type": "code",
      "source": [
        "# Interactions individual cols (multiplation sign)\n",
        "res_int2 = smf.ols(formula=\"Lottery ~ Literacy*Wealth - 1\", data=df).fit()\n",
        "print(res_int2.params)"
      ],
      "metadata": {
        "colab": {
          "base_uri": "https://localhost:8080/"
        },
        "id": "1XiIm3B7k3DH",
        "outputId": "75ecead8-731a-46cf-9ef5-3f1ca1e6f954"
      },
      "execution_count": 38,
      "outputs": [
        {
          "output_type": "stream",
          "name": "stdout",
          "text": [
            "Literacy           0.427386\n",
            "Wealth             1.080987\n",
            "Literacy:Wealth   -0.013609\n",
            "dtype: float64\n"
          ]
        }
      ]
    },
    {
      "cell_type": "code",
      "source": [
        "# Functions\n",
        "res = smf.ols(formula=\"Lottery ~ np.log(Literacy)\", data=df).fit()\n",
        "print(res.summary())"
      ],
      "metadata": {
        "colab": {
          "base_uri": "https://localhost:8080/"
        },
        "id": "VDrz6JwKmIzZ",
        "outputId": "ea267011-d48d-42dc-ef13-351549ffe8b8"
      },
      "execution_count": 40,
      "outputs": [
        {
          "output_type": "stream",
          "name": "stdout",
          "text": [
            "                            OLS Regression Results                            \n",
            "==============================================================================\n",
            "Dep. Variable:                Lottery   R-squared:                       0.161\n",
            "Model:                            OLS   Adj. R-squared:                  0.151\n",
            "Method:                 Least Squares   F-statistic:                     15.89\n",
            "Date:                Sat, 18 Dec 2021   Prob (F-statistic):           0.000144\n",
            "Time:                        22:10:38   Log-Likelihood:                -385.38\n",
            "No. Observations:                  85   AIC:                             774.8\n",
            "Df Residuals:                      83   BIC:                             779.7\n",
            "Df Model:                           1                                         \n",
            "Covariance Type:            nonrobust                                         \n",
            "====================================================================================\n",
            "                       coef    std err          t      P>|t|      [0.025      0.975]\n",
            "------------------------------------------------------------------------------------\n",
            "Intercept          115.6091     18.374      6.292      0.000      79.064     152.155\n",
            "np.log(Literacy)   -20.3940      5.116     -3.986      0.000     -30.570     -10.218\n",
            "==============================================================================\n",
            "Omnibus:                        8.907   Durbin-Watson:                   2.019\n",
            "Prob(Omnibus):                  0.012   Jarque-Bera (JB):                3.299\n",
            "Skew:                           0.108   Prob(JB):                        0.192\n",
            "Kurtosis:                       2.059   Cond. No.                         28.7\n",
            "==============================================================================\n",
            "\n",
            "Warnings:\n",
            "[1] Standard Errors assume that the covariance matrix of the errors is correctly specified.\n"
          ]
        }
      ]
    },
    {
      "cell_type": "code",
      "source": [
        "# applyting other functions\n",
        "def log_plus_1(x):\n",
        "    return np.log(x) + 1.\n",
        "\n",
        "# Functions\n",
        "res = smf.ols(formula=\"Lottery ~ log_plus_1(Literacy)\", data=df).fit()\n",
        "print(res.summary())"
      ],
      "metadata": {
        "colab": {
          "base_uri": "https://localhost:8080/"
        },
        "id": "wmUya3FamIu1",
        "outputId": "887c7786-d835-4198-a475-695360981208"
      },
      "execution_count": 43,
      "outputs": [
        {
          "output_type": "stream",
          "name": "stdout",
          "text": [
            "                            OLS Regression Results                            \n",
            "==============================================================================\n",
            "Dep. Variable:                Lottery   R-squared:                       0.161\n",
            "Model:                            OLS   Adj. R-squared:                  0.151\n",
            "Method:                 Least Squares   F-statistic:                     15.89\n",
            "Date:                Sat, 18 Dec 2021   Prob (F-statistic):           0.000144\n",
            "Time:                        22:11:25   Log-Likelihood:                -385.38\n",
            "No. Observations:                  85   AIC:                             774.8\n",
            "Df Residuals:                      83   BIC:                             779.7\n",
            "Df Model:                           1                                         \n",
            "Covariance Type:            nonrobust                                         \n",
            "========================================================================================\n",
            "                           coef    std err          t      P>|t|      [0.025      0.975]\n",
            "----------------------------------------------------------------------------------------\n",
            "Intercept              136.0031     23.454      5.799      0.000      89.354     182.652\n",
            "log_plus_1(Literacy)   -20.3940      5.116     -3.986      0.000     -30.570     -10.218\n",
            "==============================================================================\n",
            "Omnibus:                        8.907   Durbin-Watson:                   2.019\n",
            "Prob(Omnibus):                  0.012   Jarque-Bera (JB):                3.299\n",
            "Skew:                           0.108   Prob(JB):                        0.192\n",
            "Kurtosis:                       2.059   Cond. No.                         45.5\n",
            "==============================================================================\n",
            "\n",
            "Warnings:\n",
            "[1] Standard Errors assume that the covariance matrix of the errors is correctly specified.\n"
          ]
        }
      ]
    },
    {
      "cell_type": "markdown",
      "source": [
        "# **3. Ordinary Least Squares**"
      ],
      "metadata": {
        "id": "UspFEk_ame9v"
      }
    },
    {
      "cell_type": "code",
      "source": [
        "import pandas as pd\n",
        "import numpy as np\n",
        "import matplotlib.pyplot as plt\n",
        "\n",
        "import statsmodels.api as sm\n",
        "from statsmodels.sandbox.regression.predstd import wls_prediction_std\n",
        "\n",
        "np.random.seed(42)"
      ],
      "metadata": {
        "id": "lvKl9XpmmIp-"
      },
      "execution_count": 44,
      "outputs": []
    },
    {
      "cell_type": "code",
      "source": [
        "# Fake Data\n",
        "nsample = 100\n",
        "x = np.linspace(0,10,100)\n",
        "X = np.column_stack((x, x**2))\n",
        "beta = np.array([1,0.1, 10])\n",
        "e = np.random.normal(size=nsample)\n",
        "\n",
        "# set the constant\n",
        "X = sm.add_constant(X)\n",
        "y = np.dot(X, beta) + e\n",
        "\n",
        "# Model fit and Summary\n",
        "res = sm.OLS(y, X).fit()\n",
        "print(res.summary())"
      ],
      "metadata": {
        "colab": {
          "base_uri": "https://localhost:8080/"
        },
        "id": "yT-414YOmIll",
        "outputId": "cd245887-3cc5-4bcf-ff7e-ecbcd5c3e659"
      },
      "execution_count": 48,
      "outputs": [
        {
          "output_type": "stream",
          "name": "stdout",
          "text": [
            "                            OLS Regression Results                            \n",
            "==============================================================================\n",
            "Dep. Variable:                      y   R-squared:                       1.000\n",
            "Model:                            OLS   Adj. R-squared:                  1.000\n",
            "Method:                 Least Squares   F-statistic:                 5.761e+06\n",
            "Date:                Sat, 18 Dec 2021   Prob (F-statistic):          7.48e-247\n",
            "Time:                        22:14:04   Log-Likelihood:                -128.56\n",
            "No. Observations:                 100   AIC:                             263.1\n",
            "Df Residuals:                      97   BIC:                             270.9\n",
            "Df Model:                           2                                         \n",
            "Covariance Type:            nonrobust                                         \n",
            "==============================================================================\n",
            "                 coef    std err          t      P>|t|      [0.025      0.975]\n",
            "------------------------------------------------------------------------------\n",
            "const          1.3128      0.261      5.024      0.000       0.794       1.832\n",
            "x1            -0.0193      0.121     -0.160      0.873      -0.259       0.220\n",
            "x2            10.0117      0.012    856.629      0.000       9.988      10.035\n",
            "==============================================================================\n",
            "Omnibus:                        0.462   Durbin-Watson:                   1.874\n",
            "Prob(Omnibus):                  0.794   Jarque-Bera (JB):                0.511\n",
            "Skew:                           0.157   Prob(JB):                        0.775\n",
            "Kurtosis:                       2.844   Cond. No.                         144.\n",
            "==============================================================================\n",
            "\n",
            "Warnings:\n",
            "[1] Standard Errors assume that the covariance matrix of the errors is correctly specified.\n"
          ]
        }
      ]
    },
    {
      "cell_type": "code",
      "source": [
        "# Reviewing results\n",
        "print(\"R2: \", res.rsquared )"
      ],
      "metadata": {
        "colab": {
          "base_uri": "https://localhost:8080/"
        },
        "id": "o5ji4Q57mIf-",
        "outputId": "4576414e-3f78-4f21-bc5c-b8bec88c2627"
      },
      "execution_count": 49,
      "outputs": [
        {
          "output_type": "stream",
          "name": "stdout",
          "text": [
            "R2:  0.9999915814713503\n"
          ]
        }
      ]
    },
    {
      "cell_type": "markdown",
      "source": [
        "## **3.1.OLS non-linear curve but linear in parameters**"
      ],
      "metadata": {
        "id": "t3ydhazbnHKg"
      }
    },
    {
      "cell_type": "code",
      "source": [
        "# Fake Data 2\n",
        "nsample = 100\n",
        "sig = 0.5\n",
        "x = np.linspace(0,20, nsample)\n",
        "X = np.column_stack((x, np.sin(x), (x-5)**2, np.ones(nsample)))\n",
        "beta = np.array([0.5, 0.5, -0.02, 5.])\n",
        "y_true = np.dot(X, beta)\n",
        "y = y_true + sig * np.random.normal(size=nsample) # Adds noise\n",
        "\n",
        "# model, fit, summary\n",
        "res_2 = sm.OLS(y, X).fit()\n",
        "print(res_2.summary())"
      ],
      "metadata": {
        "colab": {
          "base_uri": "https://localhost:8080/"
        },
        "id": "RZoHGIEymIXh",
        "outputId": "e3ab6502-64dd-4c71-dfad-1c5b4b153f18"
      },
      "execution_count": 52,
      "outputs": [
        {
          "output_type": "stream",
          "name": "stdout",
          "text": [
            "                            OLS Regression Results                            \n",
            "==============================================================================\n",
            "Dep. Variable:                      y   R-squared:                       0.920\n",
            "Model:                            OLS   Adj. R-squared:                  0.918\n",
            "Method:                 Least Squares   F-statistic:                     368.6\n",
            "Date:                Sat, 18 Dec 2021   Prob (F-statistic):           1.58e-52\n",
            "Time:                        22:16:27   Log-Likelihood:                -74.918\n",
            "No. Observations:                 100   AIC:                             157.8\n",
            "Df Residuals:                      96   BIC:                             168.3\n",
            "Df Model:                           3                                         \n",
            "Covariance Type:            nonrobust                                         \n",
            "==============================================================================\n",
            "                 coef    std err          t      P>|t|      [0.025      0.975]\n",
            "------------------------------------------------------------------------------\n",
            "x1             0.4621      0.020     23.385      0.000       0.423       0.501\n",
            "x2             0.3298      0.076      4.319      0.000       0.178       0.481\n",
            "x3            -0.0173      0.002     -9.980      0.000      -0.021      -0.014\n",
            "const          5.2392      0.128     40.891      0.000       4.985       5.493\n",
            "==============================================================================\n",
            "Omnibus:                        0.452   Durbin-Watson:                   2.253\n",
            "Prob(Omnibus):                  0.798   Jarque-Bera (JB):                0.599\n",
            "Skew:                           0.130   Prob(JB):                        0.741\n",
            "Kurtosis:                       2.723   Cond. No.                         223.\n",
            "==============================================================================\n",
            "\n",
            "Warnings:\n",
            "[1] Standard Errors assume that the covariance matrix of the errors is correctly specified.\n"
          ]
        }
      ]
    },
    {
      "cell_type": "code",
      "source": [
        "print(\"Parameters: \", res_2.params, \"\\n\")\n",
        "print(\"Std Errors: \", res_2.bse, \"\\n\")\n",
        "print(\"Pred Values: \", res_2.predict(), \"\\n\")\n",
        "print(\"R Squared\", res_2.rsquared)"
      ],
      "metadata": {
        "colab": {
          "base_uri": "https://localhost:8080/"
        },
        "id": "cpMER6_cnNpW",
        "outputId": "ae435e7d-3f88-44f8-a711-1f8dcdb2c6c7"
      },
      "execution_count": 54,
      "outputs": [
        {
          "output_type": "stream",
          "name": "stdout",
          "text": [
            "Parameters:  [ 0.46210331  0.32980863 -0.01732907  5.23915775] \n",
            "\n",
            "Std Errors:  [0.01976036 0.07636209 0.00173638 0.12812613] \n",
            "\n",
            "Pred Values:  [ 4.80593088  4.9997618   5.18948665  5.3725233   5.54650413  5.70937231\n",
            "  5.85946547  5.99558334  6.11703652  6.22367453  6.31589197  6.39461244\n",
            "  6.46125096  6.51765646  6.56603652  6.60886765  6.64879449  6.68852229\n",
            "  6.73070686  6.77784657  6.83218068  6.89559833  6.96956165  7.05504631\n",
            "  7.15250185  7.26183336  7.38240538  7.5130677   7.6522022   7.79778861\n",
            "  7.94748672  8.09873156  8.24883769  8.39510847  8.53494573  8.66595544\n",
            "  8.78604508  8.89350876  8.9870966   9.06606556  9.13020969  9.17986847\n",
            "  9.21591303  9.23971069  9.25306938  9.25816408  9.25744838  9.25355463\n",
            "  9.24918696  9.2470112   9.24954653  9.25906296  9.27748903  9.30633336\n",
            "  9.34662329  9.3988631   9.46301349  9.53849318  9.62420257  9.71856843\n",
            "  9.81960791  9.92500922 10.03222558 10.13857889 10.24136862 10.33798162\n",
            " 10.42599847 10.50329184 10.56811304 10.61916312 10.65564573 10.67729951\n",
            " 10.68440868 10.67779153 10.65876712 10.62910161 10.59093645 10.54670126\n",
            " 10.49901503 10.45057959 10.40406968 10.36202422 10.32674301 10.30019318\n",
            " 10.28392919 10.27902963 10.2860533  10.30501653 10.33539247 10.37613257\n",
            " 10.42570919 10.48217772 10.54325575 10.60641582 10.66898825 10.72826976\n",
            " 10.78163335 10.82663524 10.86111417 10.88327939] \n",
            "\n",
            "R Squared 0.9201136471639907\n"
          ]
        }
      ]
    },
    {
      "cell_type": "code",
      "source": [
        "# function\n",
        "def plot_compare(res):\n",
        "    prstd, iv_1, iv_u = wls_prediction_std(res)\n",
        "    fig, ax = plt.subplots(figsize=(10,6))\n",
        "    \n",
        "    ax.plot(x, y, 'o', label = 'data')\n",
        "    ax.plot(x, y_true, 'b-', label=\"True\")\n",
        "    ax.plot(x, res.fittedvalues, 'r--', label=\"OLS\")\n",
        "    ax.plot(x, iv_u, 'g--', label=\"Error\")\n",
        "    ax.plot(x, iv_1, 'g--')\n",
        "    ax.legend(loc=\"best\")"
      ],
      "metadata": {
        "id": "I1tBvVItnNlA"
      },
      "execution_count": null,
      "outputs": []
    },
    {
      "cell_type": "markdown",
      "source": [
        "# **4. OLS with Dummy Variables**"
      ],
      "metadata": {
        "id": "ZuaFbEB8ooJw"
      }
    },
    {
      "cell_type": "code",
      "source": [
        "nsample = 50\n",
        "groups = np.zeros(nsample, int)\n",
        "groups[20:40] =1\n",
        "groups[40:] = 2\n",
        "\n",
        "# get the dummy values\n",
        "dummy = pd.get_dummies(groups).values\n",
        "x = np.linspace(0,20,nsample)\n",
        "X = np.column_stack((x, dummy[:,1:]))\n",
        "X = sm.add_constant(X, prepend=False)\n",
        "beta = [1., 3, -3, 10]\n",
        "y_true = np.dot(X, beta)\n",
        "e = np.random.normal(size=nsample)\n",
        "y = y_true + e"
      ],
      "metadata": {
        "id": "K8nVKM7NnNgA"
      },
      "execution_count": 55,
      "outputs": []
    },
    {
      "cell_type": "code",
      "source": [
        "# results\n",
        "res = sm.OLS(y, X).fit()\n",
        "print(res.summary())"
      ],
      "metadata": {
        "colab": {
          "base_uri": "https://localhost:8080/"
        },
        "id": "eduUQxd5nNb0",
        "outputId": "33cf0a7b-d6cf-4b0b-da19-670b87e74763"
      },
      "execution_count": 59,
      "outputs": [
        {
          "output_type": "stream",
          "name": "stdout",
          "text": [
            "                            OLS Regression Results                            \n",
            "==============================================================================\n",
            "Dep. Variable:                      y   R-squared:                       0.979\n",
            "Model:                            OLS   Adj. R-squared:                  0.978\n",
            "Method:                 Least Squares   F-statistic:                     722.8\n",
            "Date:                Sat, 18 Dec 2021   Prob (F-statistic):           1.09e-38\n",
            "Time:                        22:24:41   Log-Likelihood:                -63.888\n",
            "No. Observations:                  50   AIC:                             135.8\n",
            "Df Residuals:                      46   BIC:                             143.4\n",
            "Df Model:                           3                                         \n",
            "Covariance Type:            nonrobust                                         \n",
            "==============================================================================\n",
            "                 coef    std err          t      P>|t|      [0.025      0.975]\n",
            "------------------------------------------------------------------------------\n",
            "x1             1.1339      0.059     19.214      0.000       1.015       1.253\n",
            "x2             2.0039      0.560      3.576      0.001       0.876       3.132\n",
            "x3            -5.4859      0.913     -6.008      0.000      -7.324      -3.648\n",
            "const          9.4023      0.306     30.774      0.000       8.787      10.017\n",
            "==============================================================================\n",
            "Omnibus:                        0.008   Durbin-Watson:                   2.539\n",
            "Prob(Omnibus):                  0.996   Jarque-Bera (JB):                0.114\n",
            "Skew:                           0.028   Prob(JB):                        0.944\n",
            "Kurtosis:                       2.773   Cond. No.                         96.3\n",
            "==============================================================================\n",
            "\n",
            "Warnings:\n",
            "[1] Standard Errors assume that the covariance matrix of the errors is correctly specified.\n"
          ]
        }
      ]
    },
    {
      "cell_type": "code",
      "source": [
        "def plot_compare(res):\n",
        "    prstd, iv_1, iv_u = wls_prediction_std(res)\n",
        "    fig, ax = plt.subplots(figsize=(10,6))\n",
        "    \n",
        "    ax.plot(x, y, 'o', label = 'data')\n",
        "    ax.plot(x, y_true, 'b-', label=\"True\")\n",
        "    ax.plot(x, res.fittedvalues, 'r--', label=\"OLS\")\n",
        "    ax.plot(x, iv_u, 'g--', label=\"Error\")\n",
        "    ax.plot(x, iv_1, 'g--')\n",
        "    ax.legend(loc=\"best\")"
      ],
      "metadata": {
        "id": "Q_tORcv_pdah"
      },
      "execution_count": 60,
      "outputs": []
    },
    {
      "cell_type": "code",
      "source": [
        "plot_compare(res)"
      ],
      "metadata": {
        "colab": {
          "base_uri": "https://localhost:8080/",
          "height": 374
        },
        "id": "yJzZfrRopdV3",
        "outputId": "86697509-6ca2-4dec-fe97-6f4fa5a66979"
      },
      "execution_count": 61,
      "outputs": [
        {
          "output_type": "display_data",
          "data": {
            "image/png": "[encoded data removed]",
            "text/plain": [
              "<Figure size 720x432 with 1 Axes>"
            ]
          },
          "metadata": {
            "needs_background": "light"
          }
        }
      ]
    },
    {
      "cell_type": "markdown",
      "source": [
        "# **5. Generalized Least Squares**\n",
        "\n",
        "\n"
      ],
      "metadata": {
        "id": "l4hRW_fJpoJs"
      }
    },
    {
      "cell_type": "code",
      "source": [
        "# Longley datasets Time Series\n",
        "data = sm.datasets.longley.load(as_pandas=False)\n",
        "data.exog = sm.add_constant(data.exog) # ecogenous variable"
      ],
      "metadata": {
        "id": "0plO99shpgTz"
      },
      "execution_count": 62,
      "outputs": []
    },
    {
      "cell_type": "markdown",
      "source": [
        "**Heteroskedastic**\n",
        "\n",
        "The absence of homoskedasticity. If there is varabiality of some random distrubance and it is different acrross all the element of the vector. Variability could be variance or any other statistical of dispersion.\n",
        "\n",
        "* AR(1) Process with trend\n",
        "\n",
        "$R_{i} = \\beta_{0} + ρϵ_{i-1} + \\eta_{i} $\n",
        "\n",
        "where $\\eta ~ N0, ϵ^{2}$"
      ],
      "metadata": {
        "id": "EGJ_5I6XqDYJ"
      }
    },
    {
      "cell_type": "code",
      "source": [
        "# sigma ols_resit\n",
        "ols_resid = sm.OLS(data.endog, data.exog).fit().resid\n",
        "\n",
        "# \n",
        "resid_fit = sm.OLS(ols_resid[1:], sm.add_constant(ols_resid[:-1])).fit()"
      ],
      "metadata": {
        "id": "a8LdFzp1pgKj"
      },
      "execution_count": 69,
      "outputs": []
    },
    {
      "cell_type": "code",
      "source": [
        "print(resid_fit.tvalues[1])\n",
        "print(resid_fit.pvalues[1])"
      ],
      "metadata": {
        "colab": {
          "base_uri": "https://localhost:8080/"
        },
        "id": "KH2zqGWhpgFN",
        "outputId": "8473a5f5-0f13-4407-e4ea-28582a9178a7"
      },
      "execution_count": 70,
      "outputs": [
        {
          "output_type": "stream",
          "name": "stdout",
          "text": [
            "-1.4390229839839999\n",
            "0.1737844478852498\n"
          ]
        }
      ]
    },
    {
      "cell_type": "code",
      "source": [
        "rho = resid_fit.params[1]\n",
        "print(rho)"
      ],
      "metadata": {
        "colab": {
          "base_uri": "https://localhost:8080/"
        },
        "id": "Nkc_cT8LpgAF",
        "outputId": "79a955ba-4b9c-4652-ee4f-3cbe479da98a"
      },
      "execution_count": 72,
      "outputs": [
        {
          "output_type": "stream",
          "name": "stdout",
          "text": [
            "-0.36342949087910786\n"
          ]
        }
      ]
    },
    {
      "cell_type": "code",
      "source": [
        "from scipy.linalg import toeplitz\n",
        "toeplitz(range(5))"
      ],
      "metadata": {
        "colab": {
          "base_uri": "https://localhost:8080/"
        },
        "id": "NEqK37jGpdQA",
        "outputId": "28c22dc7-a2e5-4dc6-b131-028ab9a71ddd"
      },
      "execution_count": 73,
      "outputs": [
        {
          "output_type": "execute_result",
          "data": {
            "text/plain": [
              "array([[0, 1, 2, 3, 4],\n",
              "       [1, 0, 1, 2, 3],\n",
              "       [2, 1, 0, 1, 2],\n",
              "       [3, 2, 1, 0, 1],\n",
              "       [4, 3, 2, 1, 0]])"
            ]
          },
          "metadata": {},
          "execution_count": 73
        }
      ]
    },
    {
      "cell_type": "code",
      "source": [
        "order = toeplitz(range(len(ols_resid)))\n",
        "print(order)"
      ],
      "metadata": {
        "colab": {
          "base_uri": "https://localhost:8080/"
        },
        "id": "p6j94RK9r-aj",
        "outputId": "a084c85a-cb0d-4876-e817-58d694f0beed"
      },
      "execution_count": 78,
      "outputs": [
        {
          "output_type": "stream",
          "name": "stdout",
          "text": [
            "[[ 0  1  2  3  4  5  6  7  8  9 10 11 12 13 14 15]\n",
            " [ 1  0  1  2  3  4  5  6  7  8  9 10 11 12 13 14]\n",
            " [ 2  1  0  1  2  3  4  5  6  7  8  9 10 11 12 13]\n",
            " [ 3  2  1  0  1  2  3  4  5  6  7  8  9 10 11 12]\n",
            " [ 4  3  2  1  0  1  2  3  4  5  6  7  8  9 10 11]\n",
            " [ 5  4  3  2  1  0  1  2  3  4  5  6  7  8  9 10]\n",
            " [ 6  5  4  3  2  1  0  1  2  3  4  5  6  7  8  9]\n",
            " [ 7  6  5  4  3  2  1  0  1  2  3  4  5  6  7  8]\n",
            " [ 8  7  6  5  4  3  2  1  0  1  2  3  4  5  6  7]\n",
            " [ 9  8  7  6  5  4  3  2  1  0  1  2  3  4  5  6]\n",
            " [10  9  8  7  6  5  4  3  2  1  0  1  2  3  4  5]\n",
            " [11 10  9  8  7  6  5  4  3  2  1  0  1  2  3  4]\n",
            " [12 11 10  9  8  7  6  5  4  3  2  1  0  1  2  3]\n",
            " [13 12 11 10  9  8  7  6  5  4  3  2  1  0  1  2]\n",
            " [14 13 12 11 10  9  8  7  6  5  4  3  2  1  0  1]\n",
            " [15 14 13 12 11 10  9  8  7  6  5  4  3  2  1  0]]\n"
          ]
        }
      ]
    },
    {
      "cell_type": "code",
      "source": [
        "sigma = rho**order\n",
        "gls_model = sm.GLS(data.endog, data.exog, sigma=sigma)"
      ],
      "metadata": {
        "id": "Egf8SflSsKcW"
      },
      "execution_count": 79,
      "outputs": []
    },
    {
      "cell_type": "code",
      "source": [
        "gls_results = gls_model.fit()\n",
        "print(gls_results.summary())"
      ],
      "metadata": {
        "colab": {
          "base_uri": "https://localhost:8080/"
        },
        "id": "MxMWNpDZsKW5",
        "outputId": "b79636e7-37f7-45ef-a21b-74e3b333718f"
      },
      "execution_count": 80,
      "outputs": [
        {
          "output_type": "stream",
          "name": "stdout",
          "text": [
            "                            GLS Regression Results                            \n",
            "==============================================================================\n",
            "Dep. Variable:                      y   R-squared:                       0.998\n",
            "Model:                            GLS   Adj. R-squared:                  0.997\n",
            "Method:                 Least Squares   F-statistic:                     724.0\n",
            "Date:                Sat, 18 Dec 2021   Prob (F-statistic):           1.48e-11\n",
            "Time:                        22:36:53   Log-Likelihood:                -107.50\n",
            "No. Observations:                  16   AIC:                             229.0\n",
            "Df Residuals:                       9   BIC:                             234.4\n",
            "Df Model:                           6                                         \n",
            "Covariance Type:            nonrobust                                         \n",
            "==============================================================================\n",
            "                 coef    std err          t      P>|t|      [0.025      0.975]\n",
            "------------------------------------------------------------------------------\n",
            "const      -3.798e+06   6.71e+05     -5.663      0.000   -5.32e+06   -2.28e+06\n",
            "x1           -12.7656     69.431     -0.184      0.858    -169.829     144.298\n",
            "x2            -0.0380      0.026     -1.448      0.182      -0.097       0.021\n",
            "x3            -2.1869      0.382     -5.719      0.000      -3.052      -1.322\n",
            "x4            -1.1518      0.165     -6.970      0.000      -1.526      -0.778\n",
            "x5            -0.0681      0.176     -0.386      0.709      -0.467       0.331\n",
            "x6          1993.9529    342.635      5.819      0.000    1218.860    2769.046\n",
            "==============================================================================\n",
            "Omnibus:                        1.365   Durbin-Watson:                   2.534\n",
            "Prob(Omnibus):                  0.505   Jarque-Bera (JB):                0.885\n",
            "Skew:                           0.209   Prob(JB):                        0.642\n",
            "Kurtosis:                       1.926   Cond. No.                     5.61e+09\n",
            "==============================================================================\n",
            "\n",
            "Warnings:\n",
            "[1] Standard Errors assume that the covariance matrix of the errors is correctly specified.\n",
            "[2] The condition number is large, 5.61e+09. This might indicate that there are\n",
            "strong multicollinearity or other numerical problems.\n"
          ]
        },
        {
          "output_type": "stream",
          "name": "stderr",
          "text": [
            "/usr/local/lib/python3.7/dist-packages/scipy/stats/stats.py:1535: UserWarning: kurtosistest only valid for n>=20 ... continuing anyway, n=16\n",
            "  \"anyway, n=%i\" % int(n))\n"
          ]
        }
      ]
    },
    {
      "cell_type": "code",
      "source": [
        "glsar_model = sm.GLSAR(data.endog, data.exog, 1)\n",
        "glsar_results = glsar_model.iterative_fit(1)\n",
        "print(glsar_results.summary())"
      ],
      "metadata": {
        "colab": {
          "base_uri": "https://localhost:8080/"
        },
        "id": "p_QAv840sKPm",
        "outputId": "04f20070-0ad8-4196-a1a1-f27739ec0329"
      },
      "execution_count": 82,
      "outputs": [
        {
          "output_type": "stream",
          "name": "stdout",
          "text": [
            "                           GLSAR Regression Results                           \n",
            "==============================================================================\n",
            "Dep. Variable:                      y   R-squared:                       0.996\n",
            "Model:                          GLSAR   Adj. R-squared:                  0.992\n",
            "Method:                 Least Squares   F-statistic:                     295.2\n",
            "Date:                Sat, 18 Dec 2021   Prob (F-statistic):           6.09e-09\n",
            "Time:                        22:37:35   Log-Likelihood:                -102.04\n",
            "No. Observations:                  15   AIC:                             218.1\n",
            "Df Residuals:                       8   BIC:                             223.0\n",
            "Df Model:                           6                                         \n",
            "Covariance Type:            nonrobust                                         \n",
            "==============================================================================\n",
            "                 coef    std err          t      P>|t|      [0.025      0.975]\n",
            "------------------------------------------------------------------------------\n",
            "const      -3.468e+06   8.72e+05     -3.979      0.004   -5.48e+06   -1.46e+06\n",
            "x1            34.5568     84.734      0.408      0.694    -160.840     229.953\n",
            "x2            -0.0343      0.033     -1.047      0.326      -0.110       0.041\n",
            "x3            -1.9621      0.481     -4.083      0.004      -3.070      -0.854\n",
            "x4            -1.0020      0.211     -4.740      0.001      -1.489      -0.515\n",
            "x5            -0.0978      0.225     -0.435      0.675      -0.616       0.421\n",
            "x6          1823.1829    445.829      4.089      0.003     795.100    2851.266\n",
            "==============================================================================\n",
            "Omnibus:                        1.960   Durbin-Watson:                   2.554\n",
            "Prob(Omnibus):                  0.375   Jarque-Bera (JB):                1.423\n",
            "Skew:                           0.713   Prob(JB):                        0.491\n",
            "Kurtosis:                       2.508   Cond. No.                     4.80e+09\n",
            "==============================================================================\n",
            "\n",
            "Warnings:\n",
            "[1] Standard Errors assume that the covariance matrix of the errors is correctly specified.\n",
            "[2] The condition number is large, 4.8e+09. This might indicate that there are\n",
            "strong multicollinearity or other numerical problems.\n"
          ]
        },
        {
          "output_type": "stream",
          "name": "stderr",
          "text": [
            "/usr/local/lib/python3.7/dist-packages/scipy/stats/stats.py:1535: UserWarning: kurtosistest only valid for n>=20 ... continuing anyway, n=15\n",
            "  \"anyway, n=%i\" % int(n))\n"
          ]
        }
      ]
    },
    {
      "cell_type": "code",
      "source": [
        "print(gls_results.params)\n",
        "print(glsar_results.params)\n",
        "print(\"================================================================\")\n",
        "print(gls_results.bse)\n",
        "print(glsar_results.bse)"
      ],
      "metadata": {
        "colab": {
          "base_uri": "https://localhost:8080/"
        },
        "id": "BP5wLPACsdQl",
        "outputId": "dcb2a99a-9e4a-4d60-d3cb-309617d766a9"
      },
      "execution_count": 85,
      "outputs": [
        {
          "output_type": "stream",
          "name": "stdout",
          "text": [
            "[-3.79785490e+06 -1.27656454e+01 -3.80013250e-02 -2.18694871e+00\n",
            " -1.15177649e+00 -6.80535580e-02  1.99395293e+03]\n",
            "[-3.46796063e+06  3.45567846e+01 -3.43410090e-02 -1.96214395e+00\n",
            " -1.00197296e+00 -9.78045986e-02  1.82318289e+03]\n",
            "================================================================\n",
            "[6.70688699e+05 6.94308073e+01 2.62476822e-02 3.82393151e-01\n",
            " 1.65252692e-01 1.76428334e-01 3.42634628e+02]\n",
            "[8.71584052e+05 8.47337145e+01 3.28032450e-02 4.80544865e-01\n",
            " 2.11383871e-01 2.24774369e-01 4.45828748e+02]\n"
          ]
        }
      ]
    },
    {
      "cell_type": "markdown",
      "source": [
        "# **6. Quantile Regression**"
      ],
      "metadata": {
        "id": "q3jft-ocs1vK"
      }
    },
    {
      "cell_type": "code",
      "source": [
        "data = sm.datasets.engel.load_pandas().data\n",
        "data.head()"
      ],
      "metadata": {
        "colab": {
          "base_uri": "https://localhost:8080/",
          "height": 206
        },
        "id": "u4DV5uKOsxLn",
        "outputId": "de2a0407-76dd-4257-aab5-dfb2c8f7d06d"
      },
      "execution_count": 86,
      "outputs": [
        {
          "output_type": "execute_result",
          "data": {
            "text/html": [
              "\n",
              "  <div id=\"df-805a5593-6da7-4673-b8a1-d4433f208641\">\n",
              "    <div class=\"colab-df-container\">\n",
              "      <div>\n",
              "<style scoped>\n",
              "    .dataframe tbody tr th:only-of-type {\n",
              "        vertical-align: middle;\n",
              "    }\n",
              "\n",
              "    .dataframe tbody tr th {\n",
              "        vertical-align: top;\n",
              "    }\n",
              "\n",
              "    .dataframe thead th {\n",
              "        text-align: right;\n",
              "    }\n",
              "</style>\n",
              "<table border=\"1\" class=\"dataframe\">\n",
              "  <thead>\n",
              "    <tr style=\"text-align: right;\">\n",
              "      <th></th>\n",
              "      <th>income</th>\n",
              "      <th>foodexp</th>\n",
              "    </tr>\n",
              "  </thead>\n",
              "  <tbody>\n",
              "    <tr>\n",
              "      <th>0</th>\n",
              "      <td>420.157651</td>\n",
              "      <td>255.839425</td>\n",
              "    </tr>\n",
              "    <tr>\n",
              "      <th>1</th>\n",
              "      <td>541.411707</td>\n",
              "      <td>310.958667</td>\n",
              "    </tr>\n",
              "    <tr>\n",
              "      <th>2</th>\n",
              "      <td>901.157457</td>\n",
              "      <td>485.680014</td>\n",
              "    </tr>\n",
              "    <tr>\n",
              "      <th>3</th>\n",
              "      <td>639.080229</td>\n",
              "      <td>402.997356</td>\n",
              "    </tr>\n",
              "    <tr>\n",
              "      <th>4</th>\n",
              "      <td>750.875606</td>\n",
              "      <td>495.560775</td>\n",
              "    </tr>\n",
              "  </tbody>\n",
              "</table>\n",
              "</div>\n",
              "      <button class=\"colab-df-convert\" onclick=\"convertToInteractive('df-805a5593-6da7-4673-b8a1-d4433f208641')\"\n",
              "              title=\"Convert this dataframe to an interactive table.\"\n",
              "              style=\"display:none;\">\n",
              "        \n",
              "  <svg xmlns=\"http://www.w3.org/2000/svg\" height=\"24px\"viewBox=\"0 0 24 24\"\n",
              "       width=\"24px\">\n",
              "    <path d=\"M0 0h24v24H0V0z\" fill=\"none\"/>\n",
              "    <path d=\"M18.56 5.44l.94 2.06.94-2.06 2.06-.94-2.06-.94-.94-2.06-.94 2.06-2.06.94zm-11 1L8.5 8.5l.94-2.06 2.06-.94-2.06-.94L8.5 2.5l-.94 2.06-2.06.94zm10 10l.94 2.06.94-2.06 2.06-.94-2.06-.94-.94-2.06-.94 2.06-2.06.94z\"/><path d=\"M17.41 7.96l-1.37-1.37c-.4-.4-.92-.59-1.43-.59-.52 0-1.04.2-1.43.59L10.3 9.45l-7.72 7.72c-.78.78-.78 2.05 0 2.83L4 21.41c.39.39.9.59 1.41.59.51 0 1.02-.2 1.41-.59l7.78-7.78 2.81-2.81c.8-.78.8-2.07 0-2.86zM5.41 20L4 18.59l7.72-7.72 1.47 1.35L5.41 20z\"/>\n",
              "  </svg>\n",
              "      </button>\n",
              "      \n",
              "  <style>\n",
              "    .colab-df-container {\n",
              "      display:flex;\n",
              "      flex-wrap:wrap;\n",
              "      gap: 12px;\n",
              "    }\n",
              "\n",
              "    .colab-df-convert {\n",
              "      background-color: #E8F0FE;\n",
              "      border: none;\n",
              "      border-radius: 50%;\n",
              "      cursor: pointer;\n",
              "      display: none;\n",
              "      fill: #1967D2;\n",
              "      height: 32px;\n",
              "      padding: 0 0 0 0;\n",
              "      width: 32px;\n",
              "    }\n",
              "\n",
              "    .colab-df-convert:hover {\n",
              "      background-color: #E2EBFA;\n",
              "      box-shadow: 0px 1px 2px rgba(60, 64, 67, 0.3), 0px 1px 3px 1px rgba(60, 64, 67, 0.15);\n",
              "      fill: #174EA6;\n",
              "    }\n",
              "\n",
              "    [theme=dark] .colab-df-convert {\n",
              "      background-color: #3B4455;\n",
              "      fill: #D2E3FC;\n",
              "    }\n",
              "\n",
              "    [theme=dark] .colab-df-convert:hover {\n",
              "      background-color: #434B5C;\n",
              "      box-shadow: 0px 1px 3px 1px rgba(0, 0, 0, 0.15);\n",
              "      filter: drop-shadow(0px 1px 2px rgba(0, 0, 0, 0.3));\n",
              "      fill: #FFFFFF;\n",
              "    }\n",
              "  </style>\n",
              "\n",
              "      <script>\n",
              "        const buttonEl =\n",
              "          document.querySelector('#df-805a5593-6da7-4673-b8a1-d4433f208641 button.colab-df-convert');\n",
              "        buttonEl.style.display =\n",
              "          google.colab.kernel.accessAllowed ? 'block' : 'none';\n",
              "\n",
              "        async function convertToInteractive(key) {\n",
              "          const element = document.querySelector('#df-805a5593-6da7-4673-b8a1-d4433f208641');\n",
              "          const dataTable =\n",
              "            await google.colab.kernel.invokeFunction('convertToInteractive',\n",
              "                                                     [key], {});\n",
              "          if (!dataTable) return;\n",
              "\n",
              "          const docLinkHtml = 'Like what you see? Visit the ' +\n",
              "            '<a target=\"_blank\" href=https://colab.research.google.com/notebooks/data_table.ipynb>data table notebook</a>'\n",
              "            + ' to learn more about interactive tables.';\n",
              "          element.innerHTML = '';\n",
              "          dataTable['output_type'] = 'display_data';\n",
              "          await google.colab.output.renderOutput(dataTable, element);\n",
              "          const docLink = document.createElement('div');\n",
              "          docLink.innerHTML = docLinkHtml;\n",
              "          element.appendChild(docLink);\n",
              "        }\n",
              "      </script>\n",
              "    </div>\n",
              "  </div>\n",
              "  "
            ],
            "text/plain": [
              "       income     foodexp\n",
              "0  420.157651  255.839425\n",
              "1  541.411707  310.958667\n",
              "2  901.157457  485.680014\n",
              "3  639.080229  402.997356\n",
              "4  750.875606  495.560775"
            ]
          },
          "metadata": {},
          "execution_count": 86
        }
      ]
    },
    {
      "cell_type": "markdown",
      "source": [
        "## **6.1. Least Abosulte Deviation**"
      ],
      "metadata": {
        "id": "92uCXK7js8X2"
      }
    },
    {
      "cell_type": "code",
      "source": [
        "model = smf.quantreg('foodexp~income', data)\n",
        "res = model.fit(q=0.5)\n",
        "print(res.summary())"
      ],
      "metadata": {
        "colab": {
          "base_uri": "https://localhost:8080/"
        },
        "id": "6DISyYUOsxFT",
        "outputId": "2791ce03-4def-4392-8ea4-618ab3dcaa4b"
      },
      "execution_count": 88,
      "outputs": [
        {
          "output_type": "stream",
          "name": "stdout",
          "text": [
            "                         QuantReg Regression Results                          \n",
            "==============================================================================\n",
            "Dep. Variable:                foodexp   Pseudo R-squared:               0.6206\n",
            "Model:                       QuantReg   Bandwidth:                       64.51\n",
            "Method:                 Least Squares   Sparsity:                        209.3\n",
            "Date:                Sat, 18 Dec 2021   No. Observations:                  235\n",
            "Time:                        22:40:25   Df Residuals:                      233\n",
            "                                        Df Model:                            1\n",
            "==============================================================================\n",
            "                 coef    std err          t      P>|t|      [0.025      0.975]\n",
            "------------------------------------------------------------------------------\n",
            "Intercept     81.4823     14.634      5.568      0.000      52.649     110.315\n",
            "income         0.5602      0.013     42.516      0.000       0.534       0.586\n",
            "==============================================================================\n",
            "\n",
            "The condition number is large, 2.38e+03. This might indicate that there are\n",
            "strong multicollinearity or other numerical problems.\n"
          ]
        }
      ]
    },
    {
      "cell_type": "markdown",
      "source": [
        "## **6.2. Visualize Results**"
      ],
      "metadata": {
        "id": "-5Om34ivtKq_"
      }
    },
    {
      "cell_type": "code",
      "source": [
        "quantiles = np.arange(.05, .96, .1)\n",
        "def fit_models(q):\n",
        "    res = model.fit(q=q)\n",
        "    return [q, res.params['Intercept'], res.params['income']] + res.conf_int().loc['income'].tolist()\n",
        "\n",
        "models = [fit_models(x) for x in quantiles]\n",
        "models = pd.DataFrame(models, columns=[\"q\",\"a\",\"b\",\"lb\",\"ub\"])\n",
        "\n",
        "ols = smf.ols('foodexp~income', data).fit()\n",
        "ols_ci = ols.conf_int().loc['income'].tolist()\n",
        "ols_dict = dict(a=ols.params['Intercept'],\n",
        "                b=ols.params['income'], \n",
        "                lb = ols_ci[0],\n",
        "                ub = ols_ci[1])\n",
        "print(models)\n",
        "print(ols_dict)"
      ],
      "metadata": {
        "colab": {
          "base_uri": "https://localhost:8080/"
        },
        "id": "w4KO5IWCsxzk",
        "outputId": "4eb1e1d0-c795-404b-df99-5ebc8cc4f5a0"
      },
      "execution_count": 90,
      "outputs": [
        {
          "output_type": "stream",
          "name": "stdout",
          "text": [
            "      q           a         b        lb        ub\n",
            "0  0.05  124.880100  0.343361  0.268632  0.418090\n",
            "1  0.15  111.693660  0.423708  0.382780  0.464636\n",
            "2  0.25   95.483539  0.474103  0.439900  0.508306\n",
            "3  0.35  105.841294  0.488901  0.457759  0.520043\n",
            "4  0.45   81.083647  0.552428  0.525021  0.579835\n",
            "5  0.55   89.661370  0.565601  0.540955  0.590247\n",
            "6  0.65   74.033436  0.604576  0.582169  0.626982\n",
            "7  0.75   62.396584  0.644014  0.622411  0.665617\n",
            "8  0.85   52.272216  0.677603  0.657383  0.697823\n",
            "9  0.95   64.103964  0.709069  0.687831  0.730306\n",
            "{'a': 147.47538852370573, 'b': 0.48517842367692354, 'lb': 0.4568738130184233, 'ub': 0.5134830343354237}\n"
          ]
        }
      ]
    },
    {
      "cell_type": "markdown",
      "source": [
        "## **6.3. First Plot**\n",
        "\n",
        "Best fit line for 10 quantile regression models to the least squares fit."
      ],
      "metadata": {
        "id": "tVrsIWqVvVbe"
      }
    },
    {
      "cell_type": "code",
      "source": [
        "x = np.arange(data.income.min(), data.income.max(), 50)\n",
        "get_y = lambda a, b: a + b * x\n",
        "\n",
        "fig, ax = plt.subplots(figsize=(10,6))\n",
        "\n",
        "for i in range(models.shape[0]):\n",
        "    y = get_y(models.a[i], models.b[i])\n",
        "    ax.plot(x, y, linestyle='dotted', color='grey')\n",
        "    \n",
        "y = get_y(ols_dict['a'], ols_dict['b'])\n",
        "\n",
        "ax.plot(x, y, color=\"red\", label=\"OLS\")\n",
        "ax.scatter(data.income, data.foodexp, alpha=0.1)\n",
        "ax.set_xlim((240, 3000))\n",
        "ax.set_ylim((240, 2000))\n",
        "legend = ax.legend()\n",
        "ax.set_xlabel('Income', fontsize=18)\n",
        "ax.set_ylabel('Food Expenditure', fontsize=18);"
      ],
      "metadata": {
        "colab": {
          "base_uri": "https://localhost:8080/",
          "height": 400
        },
        "id": "wahiaorevZbX",
        "outputId": "c8f42099-2b33-4b00-c411-a0f4185e18cc"
      },
      "execution_count": 91,
      "outputs": [
        {
          "output_type": "display_data",
          "data": {
            "image/png": "[encoded data removed]",
            "text/plain": [
              "<Figure size 720x432 with 1 Axes>"
            ]
          },
          "metadata": {
            "needs_background": "light"
          }
        }
      ]
    },
    {
      "cell_type": "markdown",
      "source": [
        "## **6.4. Second plot**"
      ],
      "metadata": {
        "id": "F1MeqWXAwEHE"
      }
    },
    {
      "cell_type": "code",
      "source": [
        "n = models.shape[0]\n",
        "\n",
        "# QUANTILE REG\n",
        "p1 = plt.plot(models.q, models.b, color=\"black\", label=\"Quantile Reg.\")\n",
        "p2 = plt.plot(models.q, models.ub, linestyle=\"dotted\", color=\"black\")\n",
        "p3 = plt.plot(models.q, models.lb, linestyle=\"dotted\", color=\"black\")\n",
        "\n",
        "# OLS\n",
        "p4 = plt.plot(models.q, [ols_dict['b']] * n, color=\"red\", label=\"OLS\")\n",
        "p5 = plt.plot(models.q, [ols_dict['lb']] * n, color=\"red\", linestyle=\"dotted\")\n",
        "p6 = plt.plot(models.q, [ols_dict['ub']] * n, color=\"red\", linestyle=\"dotted\")\n",
        "plt.ylabel(r'$\\beta_{income}$')\n",
        "plt.xlabel(\"Quantiles of the conditional food exp dist\")\n",
        "plt.legend();"
      ],
      "metadata": {
        "colab": {
          "base_uri": "https://localhost:8080/",
          "height": 279
        },
        "id": "jH4X3_xbvZml",
        "outputId": "b92c3ced-6f56-495d-e7a2-a5eb63f331f4"
      },
      "execution_count": 93,
      "outputs": [
        {
          "output_type": "display_data",
          "data": {
            "image/png": "[encoded data removed]",
            "text/plain": [
              "<Figure size 432x288 with 1 Axes>"
            ]
          },
          "metadata": {
            "needs_background": "light"
          }
        }
      ]
    },
    {
      "cell_type": "markdown",
      "source": [
        "# **7. Recursive Least Squares** Coooper dataset\n"
      ],
      "metadata": {
        "id": "NF4YdDSJxby-"
      }
    },
    {
      "cell_type": "code",
      "source": [
        "# Coooper dataset\n",
        "print(sm.datasets.copper.DESCRLONG)"
      ],
      "metadata": {
        "colab": {
          "base_uri": "https://localhost:8080/"
        },
        "id": "eZ_uTxA_xbl_",
        "outputId": "c38b021b-0fe0-4f3d-fd98-de2c3178d59d"
      },
      "execution_count": 94,
      "outputs": [
        {
          "output_type": "stream",
          "name": "stdout",
          "text": [
            "This data describes the world copper market from 1951 through 1975.  In an\n",
            "example, in Gill, the outcome variable (of a 2 stage estimation) is the world\n",
            "consumption of copper for the 25 years.  The explanatory variables are the\n",
            "world consumption of copper in 1000 metric tons, the constant dollar adjusted\n",
            "price of copper, the price of a substitute, aluminum, an index of real per\n",
            "capita income base 1970, an annual measure of manufacturer inventory change,\n",
            "and a time trend.\n",
            "\n"
          ]
        }
      ]
    },
    {
      "cell_type": "code",
      "source": [
        "# load data\n",
        "data = sm.datasets.copper.load_pandas().data\n",
        "data.columns"
      ],
      "metadata": {
        "colab": {
          "base_uri": "https://localhost:8080/"
        },
        "id": "ZW3ZfdhGxlPh",
        "outputId": "cf5840c7-c674-4691-e280-50f0e86a9a05"
      },
      "execution_count": 96,
      "outputs": [
        {
          "output_type": "execute_result",
          "data": {
            "text/plain": [
              "Index(['WORLDCONSUMPTION', 'COPPERPRICE', 'INCOMEINDEX', 'ALUMPRICE',\n",
              "       'INVENTORYINDEX', 'TIME'],\n",
              "      dtype='object')"
            ]
          },
          "metadata": {},
          "execution_count": 96
        }
      ]
    },
    {
      "cell_type": "code",
      "source": [
        "data.index = pd.date_range(\"1951-01-01\", \"1975-01-01\", freq=\"AS\")\n",
        "endog = data['WORLDCONSUMPTION']\n",
        "exog = sm.add_constant(data[['COPPERPRICE', 'INCOMEINDEX', 'ALUMPRICE',\n",
        "       'INVENTORYINDEX']])"
      ],
      "metadata": {
        "id": "SVmmyvlDxlKh"
      },
      "execution_count": 97,
      "outputs": []
    },
    {
      "cell_type": "code",
      "source": [
        "model = sm.RecursiveLS(endog, exog)\n",
        "res = model.fit()\n",
        "print(res.summary())"
      ],
      "metadata": {
        "colab": {
          "base_uri": "https://localhost:8080/"
        },
        "id": "DGuLm2tixlFm",
        "outputId": "47952039-c2b1-4998-a5c1-737f8c32d681"
      },
      "execution_count": 100,
      "outputs": [
        {
          "output_type": "stream",
          "name": "stdout",
          "text": [
            "                           Statespace Model Results                           \n",
            "==============================================================================\n",
            "Dep. Variable:       WORLDCONSUMPTION   No. Observations:                   25\n",
            "Model:                    RecursiveLS   Log Likelihood                -154.720\n",
            "Date:                Sat, 18 Dec 2021   R-squared:                       0.965\n",
            "Time:                        23:06:03   AIC                            319.441\n",
            "Sample:                    01-01-1951   BIC                            325.535\n",
            "                         - 01-01-1975   HQIC                           321.131\n",
            "Covariance Type:            nonrobust   Scale                       117717.127\n",
            "==================================================================================\n",
            "                     coef    std err          z      P>|z|      [0.025      0.975]\n",
            "----------------------------------------------------------------------------------\n",
            "const          -6562.3719   2378.939     -2.759      0.006   -1.12e+04   -1899.737\n",
            "COPPERPRICE      -13.8132     15.041     -0.918      0.358     -43.292      15.666\n",
            "INCOMEINDEX      1.21e+04    763.401     15.853      0.000    1.06e+04    1.36e+04\n",
            "ALUMPRICE         70.4146     32.678      2.155      0.031       6.367     134.462\n",
            "INVENTORYINDEX   311.7330   2130.084      0.146      0.884   -3863.155    4486.621\n",
            "===================================================================================\n",
            "Ljung-Box (Q):                         nan   Jarque-Bera (JB):                 1.70\n",
            "Prob(Q):                               nan   Prob(JB):                         0.43\n",
            "Heteroskedasticity (H):               3.38   Skew:                            -0.67\n",
            "Prob(H) (two-sided):                  0.13   Kurtosis:                         2.53\n",
            "===================================================================================\n",
            "\n",
            "Warnings:\n",
            "[1] Parameters and covariance matrix estimates are RLS estimates conditional on the entire sample.\n"
          ]
        }
      ]
    },
    {
      "cell_type": "code",
      "source": [
        "res.recursive_coefficients.filtered[0]"
      ],
      "metadata": {
        "colab": {
          "base_uri": "https://localhost:8080/"
        },
        "id": "tShiDrXBy6jd",
        "outputId": "4b74cfc0-1675-42d5-e741-67ba476a0a7c"
      },
      "execution_count": 101,
      "outputs": [
        {
          "output_type": "execute_result",
          "data": {
            "text/plain": [
              "array([ 2.88890087e+00,  4.94795049e+00,  1.55841803e+03,  1.95843327e+03,\n",
              "       -5.14749579e+04, -4.16894975e+03, -2.25261351e+03, -4.46559085e+02,\n",
              "       -5.28839795e+03, -6.94231936e+03, -7.84608903e+03, -6.64315121e+03,\n",
              "       -6.27411015e+03, -7.27201696e+03, -6.31902649e+03, -5.82223929e+03,\n",
              "       -6.25630903e+03, -6.73740446e+03, -6.47742841e+03, -5.99590747e+03,\n",
              "       -6.45080678e+03, -6.02292166e+03, -5.25835152e+03, -5.32089136e+03,\n",
              "       -6.56237193e+03])"
            ]
          },
          "metadata": {},
          "execution_count": 101
        }
      ]
    },
    {
      "cell_type": "code",
      "source": [
        "res.plot_recursive_coefficient(range(model.k_exog), alpha=None, figsize=(10,6));"
      ],
      "metadata": {
        "colab": {
          "base_uri": "https://localhost:8080/",
          "height": 441
        },
        "id": "rOfkEcFmy6fA",
        "outputId": "273795d7-eff8-46e5-9fa3-d3f10fcc7fbb"
      },
      "execution_count": 103,
      "outputs": [
        {
          "output_type": "display_data",
          "data": {
            "image/png": "[encoded data removed]",
            "text/plain": [
              "<Figure size 720x432 with 5 Axes>"
            ]
          },
          "metadata": {
            "needs_background": "light"
          }
        }
      ]
    },
    {
      "cell_type": "code",
      "source": [
        "res.plot_cusum();"
      ],
      "metadata": {
        "colab": {
          "base_uri": "https://localhost:8080/",
          "height": 265
        },
        "id": "YfkigMvfy6aO",
        "outputId": "b32df9e5-3407-4921-a5e8-403c4fdf4dd7"
      },
      "execution_count": 104,
      "outputs": [
        {
          "output_type": "display_data",
          "data": {
            "image/png": "[encoded data removed]",
            "text/plain": [
              "<Figure size 432x288 with 1 Axes>"
            ]
          },
          "metadata": {
            "needs_background": "light"
          }
        }
      ]
    },
    {
      "cell_type": "code",
      "source": [
        "res.plot_cusum_squares();"
      ],
      "metadata": {
        "colab": {
          "base_uri": "https://localhost:8080/",
          "height": 265
        },
        "id": "E8BPGtoIy6Vo",
        "outputId": "e71f5603-d1be-4728-edda-340e6c4e3478"
      },
      "execution_count": 105,
      "outputs": [
        {
          "output_type": "display_data",
          "data": {
            "image/png": "[encoded data removed]",
            "text/plain": [
              "<Figure size 432x288 with 1 Axes>"
            ]
          },
          "metadata": {
            "needs_background": "light"
          }
        }
      ]
    },
    {
      "cell_type": "markdown",
      "source": [
        "# **8. Recursive Least Squares** Quantity Theory of Money dataset"
      ],
      "metadata": {
        "id": "9oqxr1KyztlX"
      }
    },
    {
      "cell_type": "code",
      "source": [
        "from pandas_datareader.data import DataReader\n",
        "\n",
        "start = '1959-12-01'\n",
        "end = '2015-01-01'\n",
        "m2 = DataReader('M2SL', 'fred', start=start, end=end)\n",
        "cpi = DataReader('CPIAUCSL', 'fred', start=start, end=end)"
      ],
      "metadata": {
        "id": "taXmbJA5y6Q0"
      },
      "execution_count": 107,
      "outputs": []
    },
    {
      "cell_type": "code",
      "source": [
        "# Exponentially Weighted Moving Averages\n",
        "def ewma(series, beta, n_window):\n",
        "    nobs = len(series)\n",
        "    scalar = (1 - beta) / (1 + beta)\n",
        "    ma = []\n",
        "    k = np.arange(n_window, 0, -1)\n",
        "    weights = np.r_[beta**k, 1, beta**k[::-1]]\n",
        "    for t in range(n_window, nobs - n_window):\n",
        "        window = series.iloc[t - n_window:t + n_window+1].values\n",
        "        ma.append(scalar * np.sum(weights * window))\n",
        "    return pd.Series(ma, name=series.name, index=series.iloc[n_window:-n_window].index)"
      ],
      "metadata": {
        "id": "iB_VHUCey6MW"
      },
      "execution_count": 108,
      "outputs": []
    },
    {
      "cell_type": "code",
      "source": [
        "m2_ewma = ewma(np.log(m2['M2SL'].resample(\"QS\").mean()).diff().iloc[1:], 0.95, 10 * 4)\n",
        "cpi_ewma = ewma(np.log(cpi['CPIAUCSL'].resample(\"QS\").mean()).diff().iloc[1:], 0.95, 10 * 4)"
      ],
      "metadata": {
        "id": "5lpF4nEpxk7p"
      },
      "execution_count": 109,
      "outputs": []
    },
    {
      "cell_type": "code",
      "source": [
        "fig, ax = plt.subplots(figsize = (15, 5))\n",
        "ax.plot(m2_ewma, label = \"M2 Growth (EWMA)\")\n",
        "ax.plot(cpi_ewma, label = \"CPI Inflation (EWMA)\")\n",
        "ax.legend();"
      ],
      "metadata": {
        "colab": {
          "base_uri": "https://localhost:8080/",
          "height": 320
        },
        "id": "V_pntGvM0T_v",
        "outputId": "7241d6f6-a098-43e6-9223-bb877c3ba9fa"
      },
      "execution_count": 110,
      "outputs": [
        {
          "output_type": "display_data",
          "data": {
            "image/png": "[encoded data removed]",
            "text/plain": [
              "<Figure size 1080x360 with 1 Axes>"
            ]
          },
          "metadata": {
            "needs_background": "light"
          }
        }
      ]
    },
    {
      "cell_type": "code",
      "source": [
        "endog = cpi_ewma\n",
        "exog = sm.add_constant(m2_ewma)\n",
        "model = sm.RecursiveLS(endog, exog)\n",
        "res = model.fit()\n",
        "print(res.summary())"
      ],
      "metadata": {
        "colab": {
          "base_uri": "https://localhost:8080/"
        },
        "id": "2uJMpPOF0T6n",
        "outputId": "40e40ac0-91db-421a-b1fb-0eafb5e27e63"
      },
      "execution_count": 111,
      "outputs": [
        {
          "output_type": "stream",
          "name": "stdout",
          "text": [
            "                           Statespace Model Results                           \n",
            "==============================================================================\n",
            "Dep. Variable:               CPIAUCSL   No. Observations:                  141\n",
            "Model:                    RecursiveLS   Log Likelihood                 692.989\n",
            "Date:                Sat, 18 Dec 2021   R-squared:                       0.814\n",
            "Time:                        23:15:46   AIC                          -1381.978\n",
            "Sample:                    01-01-1970   BIC                          -1376.080\n",
            "                         - 01-01-2005   HQIC                         -1379.581\n",
            "Covariance Type:            nonrobust   Scale                            0.000\n",
            "==============================================================================\n",
            "                 coef    std err          z      P>|z|      [0.025      0.975]\n",
            "------------------------------------------------------------------------------\n",
            "const         -0.0034      0.001     -6.017      0.000      -0.004      -0.002\n",
            "M2SL           0.9128      0.037     24.626      0.000       0.840       0.985\n",
            "===================================================================================\n",
            "Ljung-Box (Q):                     1865.19   Jarque-Bera (JB):                18.19\n",
            "Prob(Q):                              0.00   Prob(JB):                         0.00\n",
            "Heteroskedasticity (H):               5.29   Skew:                            -0.81\n",
            "Prob(H) (two-sided):                  0.00   Kurtosis:                         2.27\n",
            "===================================================================================\n",
            "\n",
            "Warnings:\n",
            "[1] Parameters and covariance matrix estimates are RLS estimates conditional on the entire sample.\n"
          ]
        }
      ]
    },
    {
      "cell_type": "code",
      "source": [
        "res.plot_recursive_coefficient(1, alpha=None);"
      ],
      "metadata": {
        "colab": {
          "base_uri": "https://localhost:8080/",
          "height": 297
        },
        "id": "gvRHLZKE0T0l",
        "outputId": "7809577c-0b19-4b56-a8c0-1a99cb10e6a7"
      },
      "execution_count": 112,
      "outputs": [
        {
          "output_type": "display_data",
          "data": {
            "image/png": "[encoded data removed]",
            "text/plain": [
              "<Figure size 432x288 with 1 Axes>"
            ]
          },
          "metadata": {
            "needs_background": "light"
          }
        }
      ]
    },
    {
      "cell_type": "code",
      "source": [
        "res.plot_cusum();"
      ],
      "metadata": {
        "colab": {
          "base_uri": "https://localhost:8080/",
          "height": 267
        },
        "id": "679tQIRD0TvM",
        "outputId": "a161dedb-71b9-4ad2-eb7a-765970521fbd"
      },
      "execution_count": 113,
      "outputs": [
        {
          "output_type": "display_data",
          "data": {
            "image/png": "[encoded data removed]",
            "text/plain": [
              "<Figure size 432x288 with 1 Axes>"
            ]
          },
          "metadata": {
            "needs_background": "light"
          }
        }
      ]
    },
    {
      "cell_type": "code",
      "source": [
        "res.plot_cusum_squares();"
      ],
      "metadata": {
        "colab": {
          "base_uri": "https://localhost:8080/",
          "height": 267
        },
        "id": "NEZqsT1u0TqW",
        "outputId": "2853c01d-8815-4d6b-8264-523cec102895"
      },
      "execution_count": 114,
      "outputs": [
        {
          "output_type": "display_data",
          "data": {
            "image/png": "[encoded data removed]",
            "text/plain": [
              "<Figure size 432x288 with 1 Axes>"
            ]
          },
          "metadata": {
            "needs_background": "light"
          }
        }
      ]
    },
    {
      "cell_type": "markdown",
      "source": [
        "# **9. Rolling Regression**"
      ],
      "metadata": {
        "id": "_0gecl-h-XuW"
      }
    },
    {
      "cell_type": "code",
      "source": [
        ""
      ],
      "metadata": {
        "id": "HFRMGGTf0Tk-"
      },
      "execution_count": null,
      "outputs": []
    },
    {
      "cell_type": "code",
      "source": [
        ""
      ],
      "metadata": {
        "id": "Kn3oQxgWTiR-"
      },
      "execution_count": null,
      "outputs": []
    },
    {
      "cell_type": "code",
      "source": [
        ""
      ],
      "metadata": {
        "id": "2sgqUL_ETiOB"
      },
      "execution_count": null,
      "outputs": []
    },
    {
      "cell_type": "markdown",
      "source": [
        "## **Logistic regression**"
      ],
      "metadata": {
        "id": "iPFZ5v-xTi24"
      }
    },
    {
      "cell_type": "code",
      "source": [
        "import pandas as pd\n",
        "import numpy as np\n",
        "\n",
        "# bankdata = pd.read_excel('https://www3.nd.edu/~busiforc/problems/DataMining/UniversalBank.xls',\n",
        "#                          sheet_name='Data', header=3)\n",
        "# bankdata.isnull().sum()\n",
        "\n",
        "# cleaning\n",
        "# bankdata.Experience = np.where(bankdata.Experience < 0, 0, bankdata.Experience)\n",
        "# bankdata.drop(['Zip Code'], axis=1, inplace=True)\n",
        "# bankdata.set_index(['ID'], inplace=True)\n",
        "# bankdata = pd.get_dummies(bankdata, columns=['Education'], drop_first=True)\n",
        "bankdata.rename(columns={'Education_2':'GradDeg', 'Education_3':'AdvDeg'}, inplace=True)"
      ],
      "metadata": {
        "id": "TDKa4QvDTlsg"
      },
      "execution_count": 25,
      "outputs": []
    },
    {
      "cell_type": "code",
      "source": [
        "import statsmodels.api as sm\n",
        "x_inc = sm.add_constant(bankdata['Income'])\n",
        "y_var = bankdata['Personal Loan']\n",
        "\n",
        "res = sm.Logit(y_var,x_inc).fit()\n",
        "print(res.summary())"
      ],
      "metadata": {
        "colab": {
          "base_uri": "https://localhost:8080/"
        },
        "id": "O2aXRGtmTlye",
        "outputId": "9f4affe5-cbdb-4cbf-d0ca-055113e029a3"
      },
      "execution_count": 30,
      "outputs": [
        {
          "output_type": "stream",
          "name": "stdout",
          "text": [
            "Optimization terminated successfully.\n",
            "         Current function value: 0.201623\n",
            "         Iterations 8\n",
            "                           Logit Regression Results                           \n",
            "==============================================================================\n",
            "Dep. Variable:          Personal Loan   No. Observations:                 5000\n",
            "Model:                          Logit   Df Residuals:                     4998\n",
            "Method:                           MLE   Df Model:                            1\n",
            "Date:                Sun, 19 Dec 2021   Pseudo R-squ.:                  0.3624\n",
            "Time:                        01:46:01   Log-Likelihood:                -1008.1\n",
            "converged:                       True   LL-Null:                       -1581.0\n",
            "Covariance Type:            nonrobust   LLR p-value:                3.652e-251\n",
            "==============================================================================\n",
            "                 coef    std err          z      P>|z|      [0.025      0.975]\n",
            "------------------------------------------------------------------------------\n",
            "const         -6.1273      0.186    -32.926      0.000      -6.492      -5.763\n",
            "Income         0.0371      0.001     26.928      0.000       0.034       0.040\n",
            "==============================================================================\n"
          ]
        }
      ]
    },
    {
      "cell_type": "code",
      "source": [
        "type(x_inc)\n",
        "# value_counts()"
      ],
      "metadata": {
        "colab": {
          "base_uri": "https://localhost:8080/"
        },
        "id": "K6KtsRJna4Px",
        "outputId": "86669dde-126a-497c-cb55-62676f3efc43"
      },
      "execution_count": 36,
      "outputs": [
        {
          "output_type": "execute_result",
          "data": {
            "text/plain": [
              "pandas.core.frame.DataFrame"
            ]
          },
          "metadata": {},
          "execution_count": 36
        }
      ]
    }
  ]
}
